{
  "nbformat": 4,
  "nbformat_minor": 0,
  "metadata": {
    "colab": {
      "provenance": [],
      "collapsed_sections": []
    },
    "kernelspec": {
      "name": "python3",
      "display_name": "Python 3"
    },
    "language_info": {
      "name": "python"
    }
  },
  "cells": [
    {
      "cell_type": "markdown",
      "source": [
        "# IMPORT THE LIBRARIES"
      ],
      "metadata": {
        "id": "Ye3scnHO1X4v"
      }
    },
    {
      "cell_type": "code",
      "execution_count": 1,
      "metadata": {
        "id": "vJAFlB1e0rOI"
      },
      "outputs": [],
      "source": [
        "import numpy as np\n",
        "import pandas as pd\n",
        "import seaborn as sns\n",
        "import matplotlib.pyplot as plt\n",
        "\n",
        "import warnings\n",
        "warnings.filterwarnings(\"ignore\")"
      ]
    },
    {
      "cell_type": "markdown",
      "source": [
        "# LOAD THE DATASET"
      ],
      "metadata": {
        "id": "dHAirZu01q0o"
      }
    },
    {
      "cell_type": "code",
      "source": [
        "data=pd.read_csv(\"Mall_Customers.csv\")"
      ],
      "metadata": {
        "id": "CT_59wDg1zCV"
      },
      "execution_count": 85,
      "outputs": []
    },
    {
      "cell_type": "code",
      "source": [
        "data.head()"
      ],
      "metadata": {
        "colab": {
          "base_uri": "https://localhost:8080/",
          "height": 206
        },
        "id": "fbJnQ9Vk2wRf",
        "outputId": "33fb9cf3-8ca1-4aa7-eb04-f700aa73760b"
      },
      "execution_count": 86,
      "outputs": [
        {
          "output_type": "execute_result",
          "data": {
            "text/plain": [
              "   CustomerID  Gender  Age  Annual Income (k$)  Spending Score (1-100)\n",
              "0           1    Male   19                  15                      39\n",
              "1           2    Male   21                  15                      81\n",
              "2           3  Female   20                  16                       6\n",
              "3           4  Female   23                  16                      77\n",
              "4           5  Female   31                  17                      40"
            ],
            "text/html": [
              "\n",
              "  <div id=\"df-e3022ced-1f9e-40c2-9ba9-5a9fa83b5e58\">\n",
              "    <div class=\"colab-df-container\">\n",
              "      <div>\n",
              "<style scoped>\n",
              "    .dataframe tbody tr th:only-of-type {\n",
              "        vertical-align: middle;\n",
              "    }\n",
              "\n",
              "    .dataframe tbody tr th {\n",
              "        vertical-align: top;\n",
              "    }\n",
              "\n",
              "    .dataframe thead th {\n",
              "        text-align: right;\n",
              "    }\n",
              "</style>\n",
              "<table border=\"1\" class=\"dataframe\">\n",
              "  <thead>\n",
              "    <tr style=\"text-align: right;\">\n",
              "      <th></th>\n",
              "      <th>CustomerID</th>\n",
              "      <th>Gender</th>\n",
              "      <th>Age</th>\n",
              "      <th>Annual Income (k$)</th>\n",
              "      <th>Spending Score (1-100)</th>\n",
              "    </tr>\n",
              "  </thead>\n",
              "  <tbody>\n",
              "    <tr>\n",
              "      <th>0</th>\n",
              "      <td>1</td>\n",
              "      <td>Male</td>\n",
              "      <td>19</td>\n",
              "      <td>15</td>\n",
              "      <td>39</td>\n",
              "    </tr>\n",
              "    <tr>\n",
              "      <th>1</th>\n",
              "      <td>2</td>\n",
              "      <td>Male</td>\n",
              "      <td>21</td>\n",
              "      <td>15</td>\n",
              "      <td>81</td>\n",
              "    </tr>\n",
              "    <tr>\n",
              "      <th>2</th>\n",
              "      <td>3</td>\n",
              "      <td>Female</td>\n",
              "      <td>20</td>\n",
              "      <td>16</td>\n",
              "      <td>6</td>\n",
              "    </tr>\n",
              "    <tr>\n",
              "      <th>3</th>\n",
              "      <td>4</td>\n",
              "      <td>Female</td>\n",
              "      <td>23</td>\n",
              "      <td>16</td>\n",
              "      <td>77</td>\n",
              "    </tr>\n",
              "    <tr>\n",
              "      <th>4</th>\n",
              "      <td>5</td>\n",
              "      <td>Female</td>\n",
              "      <td>31</td>\n",
              "      <td>17</td>\n",
              "      <td>40</td>\n",
              "    </tr>\n",
              "  </tbody>\n",
              "</table>\n",
              "</div>\n",
              "      <button class=\"colab-df-convert\" onclick=\"convertToInteractive('df-e3022ced-1f9e-40c2-9ba9-5a9fa83b5e58')\"\n",
              "              title=\"Convert this dataframe to an interactive table.\"\n",
              "              style=\"display:none;\">\n",
              "        \n",
              "  <svg xmlns=\"http://www.w3.org/2000/svg\" height=\"24px\"viewBox=\"0 0 24 24\"\n",
              "       width=\"24px\">\n",
              "    <path d=\"M0 0h24v24H0V0z\" fill=\"none\"/>\n",
              "    <path d=\"M18.56 5.44l.94 2.06.94-2.06 2.06-.94-2.06-.94-.94-2.06-.94 2.06-2.06.94zm-11 1L8.5 8.5l.94-2.06 2.06-.94-2.06-.94L8.5 2.5l-.94 2.06-2.06.94zm10 10l.94 2.06.94-2.06 2.06-.94-2.06-.94-.94-2.06-.94 2.06-2.06.94z\"/><path d=\"M17.41 7.96l-1.37-1.37c-.4-.4-.92-.59-1.43-.59-.52 0-1.04.2-1.43.59L10.3 9.45l-7.72 7.72c-.78.78-.78 2.05 0 2.83L4 21.41c.39.39.9.59 1.41.59.51 0 1.02-.2 1.41-.59l7.78-7.78 2.81-2.81c.8-.78.8-2.07 0-2.86zM5.41 20L4 18.59l7.72-7.72 1.47 1.35L5.41 20z\"/>\n",
              "  </svg>\n",
              "      </button>\n",
              "      \n",
              "  <style>\n",
              "    .colab-df-container {\n",
              "      display:flex;\n",
              "      flex-wrap:wrap;\n",
              "      gap: 12px;\n",
              "    }\n",
              "\n",
              "    .colab-df-convert {\n",
              "      background-color: #E8F0FE;\n",
              "      border: none;\n",
              "      border-radius: 50%;\n",
              "      cursor: pointer;\n",
              "      display: none;\n",
              "      fill: #1967D2;\n",
              "      height: 32px;\n",
              "      padding: 0 0 0 0;\n",
              "      width: 32px;\n",
              "    }\n",
              "\n",
              "    .colab-df-convert:hover {\n",
              "      background-color: #E2EBFA;\n",
              "      box-shadow: 0px 1px 2px rgba(60, 64, 67, 0.3), 0px 1px 3px 1px rgba(60, 64, 67, 0.15);\n",
              "      fill: #174EA6;\n",
              "    }\n",
              "\n",
              "    [theme=dark] .colab-df-convert {\n",
              "      background-color: #3B4455;\n",
              "      fill: #D2E3FC;\n",
              "    }\n",
              "\n",
              "    [theme=dark] .colab-df-convert:hover {\n",
              "      background-color: #434B5C;\n",
              "      box-shadow: 0px 1px 3px 1px rgba(0, 0, 0, 0.15);\n",
              "      filter: drop-shadow(0px 1px 2px rgba(0, 0, 0, 0.3));\n",
              "      fill: #FFFFFF;\n",
              "    }\n",
              "  </style>\n",
              "\n",
              "      <script>\n",
              "        const buttonEl =\n",
              "          document.querySelector('#df-e3022ced-1f9e-40c2-9ba9-5a9fa83b5e58 button.colab-df-convert');\n",
              "        buttonEl.style.display =\n",
              "          google.colab.kernel.accessAllowed ? 'block' : 'none';\n",
              "\n",
              "        async function convertToInteractive(key) {\n",
              "          const element = document.querySelector('#df-e3022ced-1f9e-40c2-9ba9-5a9fa83b5e58');\n",
              "          const dataTable =\n",
              "            await google.colab.kernel.invokeFunction('convertToInteractive',\n",
              "                                                     [key], {});\n",
              "          if (!dataTable) return;\n",
              "\n",
              "          const docLinkHtml = 'Like what you see? Visit the ' +\n",
              "            '<a target=\"_blank\" href=https://colab.research.google.com/notebooks/data_table.ipynb>data table notebook</a>'\n",
              "            + ' to learn more about interactive tables.';\n",
              "          element.innerHTML = '';\n",
              "          dataTable['output_type'] = 'display_data';\n",
              "          await google.colab.output.renderOutput(dataTable, element);\n",
              "          const docLink = document.createElement('div');\n",
              "          docLink.innerHTML = docLinkHtml;\n",
              "          element.appendChild(docLink);\n",
              "        }\n",
              "      </script>\n",
              "    </div>\n",
              "  </div>\n",
              "  "
            ]
          },
          "metadata": {},
          "execution_count": 86
        }
      ]
    },
    {
      "cell_type": "code",
      "source": [
        "data.tail()"
      ],
      "metadata": {
        "colab": {
          "base_uri": "https://localhost:8080/",
          "height": 206
        },
        "id": "6fMljEEz3Fdl",
        "outputId": "0766d7b0-d618-4991-cce4-65417a88abec"
      },
      "execution_count": 6,
      "outputs": [
        {
          "output_type": "execute_result",
          "data": {
            "text/plain": [
              "     CustomerID  Gender  Age  Annual Income (k$)  Spending Score (1-100)\n",
              "195         196  Female   35                 120                      79\n",
              "196         197  Female   45                 126                      28\n",
              "197         198    Male   32                 126                      74\n",
              "198         199    Male   32                 137                      18\n",
              "199         200    Male   30                 137                      83"
            ],
            "text/html": [
              "\n",
              "  <div id=\"df-71d1ccdf-1c1f-44f4-99fa-6cc7cacd1133\">\n",
              "    <div class=\"colab-df-container\">\n",
              "      <div>\n",
              "<style scoped>\n",
              "    .dataframe tbody tr th:only-of-type {\n",
              "        vertical-align: middle;\n",
              "    }\n",
              "\n",
              "    .dataframe tbody tr th {\n",
              "        vertical-align: top;\n",
              "    }\n",
              "\n",
              "    .dataframe thead th {\n",
              "        text-align: right;\n",
              "    }\n",
              "</style>\n",
              "<table border=\"1\" class=\"dataframe\">\n",
              "  <thead>\n",
              "    <tr style=\"text-align: right;\">\n",
              "      <th></th>\n",
              "      <th>CustomerID</th>\n",
              "      <th>Gender</th>\n",
              "      <th>Age</th>\n",
              "      <th>Annual Income (k$)</th>\n",
              "      <th>Spending Score (1-100)</th>\n",
              "    </tr>\n",
              "  </thead>\n",
              "  <tbody>\n",
              "    <tr>\n",
              "      <th>195</th>\n",
              "      <td>196</td>\n",
              "      <td>Female</td>\n",
              "      <td>35</td>\n",
              "      <td>120</td>\n",
              "      <td>79</td>\n",
              "    </tr>\n",
              "    <tr>\n",
              "      <th>196</th>\n",
              "      <td>197</td>\n",
              "      <td>Female</td>\n",
              "      <td>45</td>\n",
              "      <td>126</td>\n",
              "      <td>28</td>\n",
              "    </tr>\n",
              "    <tr>\n",
              "      <th>197</th>\n",
              "      <td>198</td>\n",
              "      <td>Male</td>\n",
              "      <td>32</td>\n",
              "      <td>126</td>\n",
              "      <td>74</td>\n",
              "    </tr>\n",
              "    <tr>\n",
              "      <th>198</th>\n",
              "      <td>199</td>\n",
              "      <td>Male</td>\n",
              "      <td>32</td>\n",
              "      <td>137</td>\n",
              "      <td>18</td>\n",
              "    </tr>\n",
              "    <tr>\n",
              "      <th>199</th>\n",
              "      <td>200</td>\n",
              "      <td>Male</td>\n",
              "      <td>30</td>\n",
              "      <td>137</td>\n",
              "      <td>83</td>\n",
              "    </tr>\n",
              "  </tbody>\n",
              "</table>\n",
              "</div>\n",
              "      <button class=\"colab-df-convert\" onclick=\"convertToInteractive('df-71d1ccdf-1c1f-44f4-99fa-6cc7cacd1133')\"\n",
              "              title=\"Convert this dataframe to an interactive table.\"\n",
              "              style=\"display:none;\">\n",
              "        \n",
              "  <svg xmlns=\"http://www.w3.org/2000/svg\" height=\"24px\"viewBox=\"0 0 24 24\"\n",
              "       width=\"24px\">\n",
              "    <path d=\"M0 0h24v24H0V0z\" fill=\"none\"/>\n",
              "    <path d=\"M18.56 5.44l.94 2.06.94-2.06 2.06-.94-2.06-.94-.94-2.06-.94 2.06-2.06.94zm-11 1L8.5 8.5l.94-2.06 2.06-.94-2.06-.94L8.5 2.5l-.94 2.06-2.06.94zm10 10l.94 2.06.94-2.06 2.06-.94-2.06-.94-.94-2.06-.94 2.06-2.06.94z\"/><path d=\"M17.41 7.96l-1.37-1.37c-.4-.4-.92-.59-1.43-.59-.52 0-1.04.2-1.43.59L10.3 9.45l-7.72 7.72c-.78.78-.78 2.05 0 2.83L4 21.41c.39.39.9.59 1.41.59.51 0 1.02-.2 1.41-.59l7.78-7.78 2.81-2.81c.8-.78.8-2.07 0-2.86zM5.41 20L4 18.59l7.72-7.72 1.47 1.35L5.41 20z\"/>\n",
              "  </svg>\n",
              "      </button>\n",
              "      \n",
              "  <style>\n",
              "    .colab-df-container {\n",
              "      display:flex;\n",
              "      flex-wrap:wrap;\n",
              "      gap: 12px;\n",
              "    }\n",
              "\n",
              "    .colab-df-convert {\n",
              "      background-color: #E8F0FE;\n",
              "      border: none;\n",
              "      border-radius: 50%;\n",
              "      cursor: pointer;\n",
              "      display: none;\n",
              "      fill: #1967D2;\n",
              "      height: 32px;\n",
              "      padding: 0 0 0 0;\n",
              "      width: 32px;\n",
              "    }\n",
              "\n",
              "    .colab-df-convert:hover {\n",
              "      background-color: #E2EBFA;\n",
              "      box-shadow: 0px 1px 2px rgba(60, 64, 67, 0.3), 0px 1px 3px 1px rgba(60, 64, 67, 0.15);\n",
              "      fill: #174EA6;\n",
              "    }\n",
              "\n",
              "    [theme=dark] .colab-df-convert {\n",
              "      background-color: #3B4455;\n",
              "      fill: #D2E3FC;\n",
              "    }\n",
              "\n",
              "    [theme=dark] .colab-df-convert:hover {\n",
              "      background-color: #434B5C;\n",
              "      box-shadow: 0px 1px 3px 1px rgba(0, 0, 0, 0.15);\n",
              "      filter: drop-shadow(0px 1px 2px rgba(0, 0, 0, 0.3));\n",
              "      fill: #FFFFFF;\n",
              "    }\n",
              "  </style>\n",
              "\n",
              "      <script>\n",
              "        const buttonEl =\n",
              "          document.querySelector('#df-71d1ccdf-1c1f-44f4-99fa-6cc7cacd1133 button.colab-df-convert');\n",
              "        buttonEl.style.display =\n",
              "          google.colab.kernel.accessAllowed ? 'block' : 'none';\n",
              "\n",
              "        async function convertToInteractive(key) {\n",
              "          const element = document.querySelector('#df-71d1ccdf-1c1f-44f4-99fa-6cc7cacd1133');\n",
              "          const dataTable =\n",
              "            await google.colab.kernel.invokeFunction('convertToInteractive',\n",
              "                                                     [key], {});\n",
              "          if (!dataTable) return;\n",
              "\n",
              "          const docLinkHtml = 'Like what you see? Visit the ' +\n",
              "            '<a target=\"_blank\" href=https://colab.research.google.com/notebooks/data_table.ipynb>data table notebook</a>'\n",
              "            + ' to learn more about interactive tables.';\n",
              "          element.innerHTML = '';\n",
              "          dataTable['output_type'] = 'display_data';\n",
              "          await google.colab.output.renderOutput(dataTable, element);\n",
              "          const docLink = document.createElement('div');\n",
              "          docLink.innerHTML = docLinkHtml;\n",
              "          element.appendChild(docLink);\n",
              "        }\n",
              "      </script>\n",
              "    </div>\n",
              "  </div>\n",
              "  "
            ]
          },
          "metadata": {},
          "execution_count": 6
        }
      ]
    },
    {
      "cell_type": "code",
      "source": [
        "data.shape"
      ],
      "metadata": {
        "colab": {
          "base_uri": "https://localhost:8080/"
        },
        "id": "UYP7rE0z3H_T",
        "outputId": "6441f6b5-e6cf-4d7b-88f1-1f79ab861ef3"
      },
      "execution_count": 7,
      "outputs": [
        {
          "output_type": "execute_result",
          "data": {
            "text/plain": [
              "(200, 5)"
            ]
          },
          "metadata": {},
          "execution_count": 7
        }
      ]
    },
    {
      "cell_type": "code",
      "source": [
        "data.info()"
      ],
      "metadata": {
        "colab": {
          "base_uri": "https://localhost:8080/"
        },
        "id": "iQUtBo5V3LoE",
        "outputId": "49b66d3d-91f9-4e85-b7e6-69a980a71885"
      },
      "execution_count": 8,
      "outputs": [
        {
          "output_type": "stream",
          "name": "stdout",
          "text": [
            "<class 'pandas.core.frame.DataFrame'>\n",
            "RangeIndex: 200 entries, 0 to 199\n",
            "Data columns (total 5 columns):\n",
            " #   Column                  Non-Null Count  Dtype \n",
            "---  ------                  --------------  ----- \n",
            " 0   CustomerID              200 non-null    int64 \n",
            " 1   Gender                  200 non-null    object\n",
            " 2   Age                     200 non-null    int64 \n",
            " 3   Annual Income (k$)      200 non-null    int64 \n",
            " 4   Spending Score (1-100)  200 non-null    int64 \n",
            "dtypes: int64(4), object(1)\n",
            "memory usage: 7.9+ KB\n"
          ]
        }
      ]
    },
    {
      "cell_type": "code",
      "source": [
        "data.columns"
      ],
      "metadata": {
        "colab": {
          "base_uri": "https://localhost:8080/"
        },
        "id": "KGpXM-323Owa",
        "outputId": "b55417c9-d506-4456-e002-614316ada32c"
      },
      "execution_count": 9,
      "outputs": [
        {
          "output_type": "execute_result",
          "data": {
            "text/plain": [
              "Index(['CustomerID', 'Gender', 'Age', 'Annual Income (k$)',\n",
              "       'Spending Score (1-100)'],\n",
              "      dtype='object')"
            ]
          },
          "metadata": {},
          "execution_count": 9
        }
      ]
    },
    {
      "cell_type": "markdown",
      "source": [
        "# UNIVARITE ANALYSIS"
      ],
      "metadata": {
        "id": "Wjq1jFT83XCp"
      }
    },
    {
      "cell_type": "code",
      "source": [
        "sns.histplot(data[\"Age\"])"
      ],
      "metadata": {
        "colab": {
          "base_uri": "https://localhost:8080/",
          "height": 297
        },
        "id": "iYjA8n8z3ZPX",
        "outputId": "02e2c114-dd6a-451c-9deb-eeafe0c8333e"
      },
      "execution_count": 10,
      "outputs": [
        {
          "output_type": "execute_result",
          "data": {
            "text/plain": [
              "<matplotlib.axes._subplots.AxesSubplot at 0x7fee7fc987d0>"
            ]
          },
          "metadata": {},
          "execution_count": 10
        },
        {
          "output_type": "display_data",
          "data": {
            "text/plain": [
              "<Figure size 432x288 with 1 Axes>"
            ],
            "image/png": "[encoded data removed]"
          },
          "metadata": {
            "needs_background": "light"
          }
        }
      ]
    },
    {
      "cell_type": "code",
      "source": [
        "sns.histplot(data[\"Gender\"])"
      ],
      "metadata": {
        "colab": {
          "base_uri": "https://localhost:8080/",
          "height": 297
        },
        "id": "UJzSHFWq3es0",
        "outputId": "3e631ae7-4c6e-4a21-ccc6-b1ba40da0339"
      },
      "execution_count": 11,
      "outputs": [
        {
          "output_type": "execute_result",
          "data": {
            "text/plain": [
              "<matplotlib.axes._subplots.AxesSubplot at 0x7fee7fb52810>"
            ]
          },
          "metadata": {},
          "execution_count": 11
        },
        {
          "output_type": "display_data",
          "data": {
            "text/plain": [
              "<Figure size 432x288 with 1 Axes>"
            ],
            "image/png": "[encoded data removed]"
          },
          "metadata": {
            "needs_background": "light"
          }
        }
      ]
    },
    {
      "cell_type": "code",
      "source": [
        "sns.distplot(data[\"Age\"])"
      ],
      "metadata": {
        "colab": {
          "base_uri": "https://localhost:8080/",
          "height": 297
        },
        "id": "k2y_zBEj3jRY",
        "outputId": "6766bcdc-f289-4119-a384-01968ab91009"
      },
      "execution_count": 13,
      "outputs": [
        {
          "output_type": "execute_result",
          "data": {
            "text/plain": [
              "<matplotlib.axes._subplots.AxesSubplot at 0x7fee7f5c8e50>"
            ]
          },
          "metadata": {},
          "execution_count": 13
        },
        {
          "output_type": "display_data",
          "data": {
            "text/plain": [
              "<Figure size 432x288 with 1 Axes>"
            ],
            "image/png": "[encoded data removed]"
          },
          "metadata": {
            "needs_background": "light"
          }
        }
      ]
    },
    {
      "cell_type": "code",
      "source": [
        "sns.boxplot(data[\"Annual Income (k$)\"])"
      ],
      "metadata": {
        "colab": {
          "base_uri": "https://localhost:8080/",
          "height": 297
        },
        "id": "lDLBt5ob3vhc",
        "outputId": "854dfa60-270a-4331-91c9-f2631316cc8e"
      },
      "execution_count": 14,
      "outputs": [
        {
          "output_type": "execute_result",
          "data": {
            "text/plain": [
              "<matplotlib.axes._subplots.AxesSubplot at 0x7fee7f4bae10>"
            ]
          },
          "metadata": {},
          "execution_count": 14
        },
        {
          "output_type": "display_data",
          "data": {
            "text/plain": [
              "<Figure size 432x288 with 1 Axes>"
            ],
            "image/png": "[encoded data removed]"
          },
          "metadata": {
            "needs_background": "light"
          }
        }
      ]
    },
    {
      "cell_type": "code",
      "source": [
        "sns.countplot(data[\"Age\"])"
      ],
      "metadata": {
        "colab": {
          "base_uri": "https://localhost:8080/",
          "height": 297
        },
        "id": "atowZJaX4E47",
        "outputId": "b0cddcac-4eaf-4418-90a5-56700c5c70c0"
      },
      "execution_count": 16,
      "outputs": [
        {
          "output_type": "execute_result",
          "data": {
            "text/plain": [
              "<matplotlib.axes._subplots.AxesSubplot at 0x7fee7f425b10>"
            ]
          },
          "metadata": {},
          "execution_count": 16
        },
        {
          "output_type": "display_data",
          "data": {
            "text/plain": [
              "<Figure size 432x288 with 1 Axes>"
            ],
            "image/png": "[encoded data removed]"
          },
          "metadata": {
            "needs_background": "light"
          }
        }
      ]
    },
    {
      "cell_type": "markdown",
      "source": [
        "# BIVARITE ANALYSIS"
      ],
      "metadata": {
        "id": "eoQ_woyf4ZAH"
      }
    },
    {
      "cell_type": "code",
      "source": [
        "sns.scatterplot(data.CustomerID,data.Age)"
      ],
      "metadata": {
        "colab": {
          "base_uri": "https://localhost:8080/",
          "height": 297
        },
        "id": "I5ZHCayT4dGg",
        "outputId": "55b3c65b-ddd3-48a1-8c3d-dabb4f84a379"
      },
      "execution_count": 17,
      "outputs": [
        {
          "output_type": "execute_result",
          "data": {
            "text/plain": [
              "<matplotlib.axes._subplots.AxesSubplot at 0x7fee7f3d2050>"
            ]
          },
          "metadata": {},
          "execution_count": 17
        },
        {
          "output_type": "display_data",
          "data": {
            "text/plain": [
              "<Figure size 432x288 with 1 Axes>"
            ],
            "image/png": "[encoded data removed]"
          },
          "metadata": {
            "needs_background": "light"
          }
        }
      ]
    },
    {
      "cell_type": "code",
      "source": [
        "plt.scatter(data['Age'],data['Annual Income (k$)'],color='red')"
      ],
      "metadata": {
        "colab": {
          "base_uri": "https://localhost:8080/",
          "height": 283
        },
        "id": "pFqdnami5RRF",
        "outputId": "0fe412ad-aa2b-41ee-dea6-1db589ef2123"
      },
      "execution_count": 40,
      "outputs": [
        {
          "output_type": "execute_result",
          "data": {
            "text/plain": [
              "<matplotlib.collections.PathCollection at 0x7fee7e956890>"
            ]
          },
          "metadata": {},
          "execution_count": 40
        },
        {
          "output_type": "display_data",
          "data": {
            "text/plain": [
              "<Figure size 432x288 with 1 Axes>"
            ],
            "image/png": "[encoded data removed]"
          },
          "metadata": {
            "needs_background": "light"
          }
        }
      ]
    },
    {
      "cell_type": "code",
      "source": [
        "sns.stripplot(data.Gender,data.Age)"
      ],
      "metadata": {
        "colab": {
          "base_uri": "https://localhost:8080/",
          "height": 297
        },
        "id": "2Af2feZ16hrP",
        "outputId": "135f8e37-6c16-4e76-efcc-2b8ddcf2fa87"
      },
      "execution_count": 39,
      "outputs": [
        {
          "output_type": "execute_result",
          "data": {
            "text/plain": [
              "<matplotlib.axes._subplots.AxesSubplot at 0x7fee7e9a9350>"
            ]
          },
          "metadata": {},
          "execution_count": 39
        },
        {
          "output_type": "display_data",
          "data": {
            "text/plain": [
              "<Figure size 432x288 with 1 Axes>"
            ],
            "image/png": "[encoded data removed]"
          },
          "metadata": {
            "needs_background": "light"
          }
        }
      ]
    },
    {
      "cell_type": "markdown",
      "source": [
        "# MULTI-VARIATE ANALYSIS"
      ],
      "metadata": {
        "id": "JjWonljf76aq"
      }
    },
    {
      "cell_type": "code",
      "source": [
        "sns.barplot(data.Gender,data.CustomerID)"
      ],
      "metadata": {
        "colab": {
          "base_uri": "https://localhost:8080/",
          "height": 300
        },
        "id": "h-_2hlrO777i",
        "outputId": "2105eac7-19fa-40bd-a6cb-e9c72da185a0"
      },
      "execution_count": 42,
      "outputs": [
        {
          "output_type": "execute_result",
          "data": {
            "text/plain": [
              "<matplotlib.axes._subplots.AxesSubplot at 0x7fee7e696650>"
            ]
          },
          "metadata": {},
          "execution_count": 42
        },
        {
          "output_type": "display_data",
          "data": {
            "text/plain": [
              "<Figure size 432x288 with 1 Axes>"
            ],
            "image/png": "[encoded data removed]"
          },
          "metadata": {
            "needs_background": "light"
          }
        }
      ]
    },
    {
      "cell_type": "code",
      "source": [
        "sns.catplot(x='Age',y='CustomerID',hue='Gender',data=data)"
      ],
      "metadata": {
        "colab": {
          "base_uri": "https://localhost:8080/",
          "height": 387
        },
        "id": "cLlEHj0r8GCG",
        "outputId": "9f25046c-8cab-43d6-ab3f-550bb266ceca"
      },
      "execution_count": 43,
      "outputs": [
        {
          "output_type": "execute_result",
          "data": {
            "text/plain": [
              "<seaborn.axisgrid.FacetGrid at 0x7fee7e674e90>"
            ]
          },
          "metadata": {},
          "execution_count": 43
        },
        {
          "output_type": "display_data",
          "data": {
            "text/plain": [
              "<Figure size 432.125x360 with 1 Axes>"
            ],
            "image/png": "[encoded data removed]"
          },
          "metadata": {
            "needs_background": "light"
          }
        }
      ]
    },
    {
      "cell_type": "code",
      "source": [
        "sns.pairplot(data=data,hue='Gender')"
      ],
      "metadata": {
        "colab": {
          "base_uri": "https://localhost:8080/",
          "height": 744
        },
        "id": "4ee_bWYe8kv0",
        "outputId": "5ce27985-3315-4856-9131-215b1bd7e55a"
      },
      "execution_count": 44,
      "outputs": [
        {
          "output_type": "execute_result",
          "data": {
            "text/plain": [
              "<seaborn.axisgrid.PairGrid at 0x7fee7bcb2e10>"
            ]
          },
          "metadata": {},
          "execution_count": 44
        },
        {
          "output_type": "display_data",
          "data": {
            "text/plain": [
              "<Figure size 792.125x720 with 20 Axes>"
            ],
            "image/png": "[encoded data removed]"
          },
          "metadata": {
            "needs_background": "light"
          }
        }
      ]
    },
    {
      "cell_type": "markdown",
      "source": [
        "# PERFORM DESCRIPTIVE STATISTICS ON THE DATASET"
      ],
      "metadata": {
        "id": "wv5YHy8t84zp"
      }
    },
    {
      "cell_type": "code",
      "source": [
        "data.describe()"
      ],
      "metadata": {
        "colab": {
          "base_uri": "https://localhost:8080/",
          "height": 300
        },
        "id": "pcV1g3Qa9It2",
        "outputId": "d19b3447-0a44-432d-ea25-b024923c47f7"
      },
      "execution_count": 45,
      "outputs": [
        {
          "output_type": "execute_result",
          "data": {
            "text/plain": [
              "       CustomerID         Age  Annual Income (k$)  Spending Score (1-100)\n",
              "count  200.000000  200.000000          200.000000              200.000000\n",
              "mean   100.500000   38.850000           60.560000               50.200000\n",
              "std     57.879185   13.969007           26.264721               25.823522\n",
              "min      1.000000   18.000000           15.000000                1.000000\n",
              "25%     50.750000   28.750000           41.500000               34.750000\n",
              "50%    100.500000   36.000000           61.500000               50.000000\n",
              "75%    150.250000   49.000000           78.000000               73.000000\n",
              "max    200.000000   70.000000          137.000000               99.000000"
            ],
            "text/html": [
              "\n",
              "  <div id=\"df-cd0d9377-7d44-459a-98d5-e41c353a57d5\">\n",
              "    <div class=\"colab-df-container\">\n",
              "      <div>\n",
              "<style scoped>\n",
              "    .dataframe tbody tr th:only-of-type {\n",
              "        vertical-align: middle;\n",
              "    }\n",
              "\n",
              "    .dataframe tbody tr th {\n",
              "        vertical-align: top;\n",
              "    }\n",
              "\n",
              "    .dataframe thead th {\n",
              "        text-align: right;\n",
              "    }\n",
              "</style>\n",
              "<table border=\"1\" class=\"dataframe\">\n",
              "  <thead>\n",
              "    <tr style=\"text-align: right;\">\n",
              "      <th></th>\n",
              "      <th>CustomerID</th>\n",
              "      <th>Age</th>\n",
              "      <th>Annual Income (k$)</th>\n",
              "      <th>Spending Score (1-100)</th>\n",
              "    </tr>\n",
              "  </thead>\n",
              "  <tbody>\n",
              "    <tr>\n",
              "      <th>count</th>\n",
              "      <td>200.000000</td>\n",
              "      <td>200.000000</td>\n",
              "      <td>200.000000</td>\n",
              "      <td>200.000000</td>\n",
              "    </tr>\n",
              "    <tr>\n",
              "      <th>mean</th>\n",
              "      <td>100.500000</td>\n",
              "      <td>38.850000</td>\n",
              "      <td>60.560000</td>\n",
              "      <td>50.200000</td>\n",
              "    </tr>\n",
              "    <tr>\n",
              "      <th>std</th>\n",
              "      <td>57.879185</td>\n",
              "      <td>13.969007</td>\n",
              "      <td>26.264721</td>\n",
              "      <td>25.823522</td>\n",
              "    </tr>\n",
              "    <tr>\n",
              "      <th>min</th>\n",
              "      <td>1.000000</td>\n",
              "      <td>18.000000</td>\n",
              "      <td>15.000000</td>\n",
              "      <td>1.000000</td>\n",
              "    </tr>\n",
              "    <tr>\n",
              "      <th>25%</th>\n",
              "      <td>50.750000</td>\n",
              "      <td>28.750000</td>\n",
              "      <td>41.500000</td>\n",
              "      <td>34.750000</td>\n",
              "    </tr>\n",
              "    <tr>\n",
              "      <th>50%</th>\n",
              "      <td>100.500000</td>\n",
              "      <td>36.000000</td>\n",
              "      <td>61.500000</td>\n",
              "      <td>50.000000</td>\n",
              "    </tr>\n",
              "    <tr>\n",
              "      <th>75%</th>\n",
              "      <td>150.250000</td>\n",
              "      <td>49.000000</td>\n",
              "      <td>78.000000</td>\n",
              "      <td>73.000000</td>\n",
              "    </tr>\n",
              "    <tr>\n",
              "      <th>max</th>\n",
              "      <td>200.000000</td>\n",
              "      <td>70.000000</td>\n",
              "      <td>137.000000</td>\n",
              "      <td>99.000000</td>\n",
              "    </tr>\n",
              "  </tbody>\n",
              "</table>\n",
              "</div>\n",
              "      <button class=\"colab-df-convert\" onclick=\"convertToInteractive('df-cd0d9377-7d44-459a-98d5-e41c353a57d5')\"\n",
              "              title=\"Convert this dataframe to an interactive table.\"\n",
              "              style=\"display:none;\">\n",
              "        \n",
              "  <svg xmlns=\"http://www.w3.org/2000/svg\" height=\"24px\"viewBox=\"0 0 24 24\"\n",
              "       width=\"24px\">\n",
              "    <path d=\"M0 0h24v24H0V0z\" fill=\"none\"/>\n",
              "    <path d=\"M18.56 5.44l.94 2.06.94-2.06 2.06-.94-2.06-.94-.94-2.06-.94 2.06-2.06.94zm-11 1L8.5 8.5l.94-2.06 2.06-.94-2.06-.94L8.5 2.5l-.94 2.06-2.06.94zm10 10l.94 2.06.94-2.06 2.06-.94-2.06-.94-.94-2.06-.94 2.06-2.06.94z\"/><path d=\"M17.41 7.96l-1.37-1.37c-.4-.4-.92-.59-1.43-.59-.52 0-1.04.2-1.43.59L10.3 9.45l-7.72 7.72c-.78.78-.78 2.05 0 2.83L4 21.41c.39.39.9.59 1.41.59.51 0 1.02-.2 1.41-.59l7.78-7.78 2.81-2.81c.8-.78.8-2.07 0-2.86zM5.41 20L4 18.59l7.72-7.72 1.47 1.35L5.41 20z\"/>\n",
              "  </svg>\n",
              "      </button>\n",
              "      \n",
              "  <style>\n",
              "    .colab-df-container {\n",
              "      display:flex;\n",
              "      flex-wrap:wrap;\n",
              "      gap: 12px;\n",
              "    }\n",
              "\n",
              "    .colab-df-convert {\n",
              "      background-color: #E8F0FE;\n",
              "      border: none;\n",
              "      border-radius: 50%;\n",
              "      cursor: pointer;\n",
              "      display: none;\n",
              "      fill: #1967D2;\n",
              "      height: 32px;\n",
              "      padding: 0 0 0 0;\n",
              "      width: 32px;\n",
              "    }\n",
              "\n",
              "    .colab-df-convert:hover {\n",
              "      background-color: #E2EBFA;\n",
              "      box-shadow: 0px 1px 2px rgba(60, 64, 67, 0.3), 0px 1px 3px 1px rgba(60, 64, 67, 0.15);\n",
              "      fill: #174EA6;\n",
              "    }\n",
              "\n",
              "    [theme=dark] .colab-df-convert {\n",
              "      background-color: #3B4455;\n",
              "      fill: #D2E3FC;\n",
              "    }\n",
              "\n",
              "    [theme=dark] .colab-df-convert:hover {\n",
              "      background-color: #434B5C;\n",
              "      box-shadow: 0px 1px 3px 1px rgba(0, 0, 0, 0.15);\n",
              "      filter: drop-shadow(0px 1px 2px rgba(0, 0, 0, 0.3));\n",
              "      fill: #FFFFFF;\n",
              "    }\n",
              "  </style>\n",
              "\n",
              "      <script>\n",
              "        const buttonEl =\n",
              "          document.querySelector('#df-cd0d9377-7d44-459a-98d5-e41c353a57d5 button.colab-df-convert');\n",
              "        buttonEl.style.display =\n",
              "          google.colab.kernel.accessAllowed ? 'block' : 'none';\n",
              "\n",
              "        async function convertToInteractive(key) {\n",
              "          const element = document.querySelector('#df-cd0d9377-7d44-459a-98d5-e41c353a57d5');\n",
              "          const dataTable =\n",
              "            await google.colab.kernel.invokeFunction('convertToInteractive',\n",
              "                                                     [key], {});\n",
              "          if (!dataTable) return;\n",
              "\n",
              "          const docLinkHtml = 'Like what you see? Visit the ' +\n",
              "            '<a target=\"_blank\" href=https://colab.research.google.com/notebooks/data_table.ipynb>data table notebook</a>'\n",
              "            + ' to learn more about interactive tables.';\n",
              "          element.innerHTML = '';\n",
              "          dataTable['output_type'] = 'display_data';\n",
              "          await google.colab.output.renderOutput(dataTable, element);\n",
              "          const docLink = document.createElement('div');\n",
              "          docLink.innerHTML = docLinkHtml;\n",
              "          element.appendChild(docLink);\n",
              "        }\n",
              "      </script>\n",
              "    </div>\n",
              "  </div>\n",
              "  "
            ]
          },
          "metadata": {},
          "execution_count": 45
        }
      ]
    },
    {
      "cell_type": "code",
      "source": [
        "data.skew()"
      ],
      "metadata": {
        "colab": {
          "base_uri": "https://localhost:8080/"
        },
        "id": "Y1MGLfRj9LrY",
        "outputId": "7caaabb2-01cb-4ce5-ce4e-60476e2c895c"
      },
      "execution_count": 46,
      "outputs": [
        {
          "output_type": "execute_result",
          "data": {
            "text/plain": [
              "CustomerID                0.000000\n",
              "Age                       0.485569\n",
              "Annual Income (k$)        0.321843\n",
              "Spending Score (1-100)   -0.047220\n",
              "dtype: float64"
            ]
          },
          "metadata": {},
          "execution_count": 46
        }
      ]
    },
    {
      "cell_type": "code",
      "source": [
        "data.dtypes"
      ],
      "metadata": {
        "colab": {
          "base_uri": "https://localhost:8080/"
        },
        "id": "_TMP-1vV9O3O",
        "outputId": "ed7ad0a6-d7f5-4edc-b95c-24cbc96bf0e5"
      },
      "execution_count": 47,
      "outputs": [
        {
          "output_type": "execute_result",
          "data": {
            "text/plain": [
              "CustomerID                 int64\n",
              "Gender                    object\n",
              "Age                        int64\n",
              "Annual Income (k$)         int64\n",
              "Spending Score (1-100)     int64\n",
              "dtype: object"
            ]
          },
          "metadata": {},
          "execution_count": 47
        }
      ]
    },
    {
      "cell_type": "code",
      "source": [
        "data.kurtosis()"
      ],
      "metadata": {
        "colab": {
          "base_uri": "https://localhost:8080/"
        },
        "id": "KHBM8PJ79Svn",
        "outputId": "ba46701d-cccc-49fb-e274-6d27e21435ad"
      },
      "execution_count": 48,
      "outputs": [
        {
          "output_type": "execute_result",
          "data": {
            "text/plain": [
              "CustomerID               -1.200000\n",
              "Age                      -0.671573\n",
              "Annual Income (k$)       -0.098487\n",
              "Spending Score (1-100)   -0.826629\n",
              "dtype: float64"
            ]
          },
          "metadata": {},
          "execution_count": 48
        }
      ]
    },
    {
      "cell_type": "code",
      "source": [
        "print(\"Mean:\",data['Age'].mean())"
      ],
      "metadata": {
        "colab": {
          "base_uri": "https://localhost:8080/"
        },
        "id": "QD4yKEuJ9Wo-",
        "outputId": "79c61ffb-8fe5-4d26-b385-48f1baf7feff"
      },
      "execution_count": 49,
      "outputs": [
        {
          "output_type": "stream",
          "name": "stdout",
          "text": [
            "Mean: 38.85\n"
          ]
        }
      ]
    },
    {
      "cell_type": "code",
      "source": [
        "print(\"Median:\",data['Age'].median())"
      ],
      "metadata": {
        "colab": {
          "base_uri": "https://localhost:8080/"
        },
        "id": "-DbO1RVA9cA8",
        "outputId": "8216e762-1ada-499f-a67c-d2430be516d2"
      },
      "execution_count": 53,
      "outputs": [
        {
          "output_type": "stream",
          "name": "stdout",
          "text": [
            "Median: 36.0\n"
          ]
        }
      ]
    },
    {
      "cell_type": "code",
      "source": [
        "print(\"Mode:\",data['Age'].mode())"
      ],
      "metadata": {
        "colab": {
          "base_uri": "https://localhost:8080/"
        },
        "id": "AG1SrUqx9nKo",
        "outputId": "414c66d3-2ed7-4c07-bacf-37bbc1737b5a"
      },
      "execution_count": 52,
      "outputs": [
        {
          "output_type": "stream",
          "name": "stdout",
          "text": [
            "Mode: 0    32\n",
            "dtype: int64\n"
          ]
        }
      ]
    },
    {
      "cell_type": "code",
      "source": [
        "print(\"Standard Deviation\",data['Age'].std())\n"
      ],
      "metadata": {
        "colab": {
          "base_uri": "https://localhost:8080/"
        },
        "id": "6p7Uy8dK9wv5",
        "outputId": "20d5bdc4-5c77-448f-a125-1c31d1b81faa"
      },
      "execution_count": 54,
      "outputs": [
        {
          "output_type": "stream",
          "name": "stdout",
          "text": [
            "Standard Deviation 13.96900733155888\n"
          ]
        }
      ]
    },
    {
      "cell_type": "markdown",
      "source": [
        "# CHECKING FOR MISSING VALUES"
      ],
      "metadata": {
        "id": "Be1a4q4M-BCo"
      }
    },
    {
      "cell_type": "code",
      "source": [
        "data.isnull().sum()"
      ],
      "metadata": {
        "colab": {
          "base_uri": "https://localhost:8080/"
        },
        "id": "2dWik5Hs-B_o",
        "outputId": "ab06fd9d-c58d-432b-8cf2-d86ee1ff2b17"
      },
      "execution_count": 55,
      "outputs": [
        {
          "output_type": "execute_result",
          "data": {
            "text/plain": [
              "CustomerID                0\n",
              "Gender                    0\n",
              "Age                       0\n",
              "Annual Income (k$)        0\n",
              "Spending Score (1-100)    0\n",
              "dtype: int64"
            ]
          },
          "metadata": {},
          "execution_count": 55
        }
      ]
    },
    {
      "cell_type": "code",
      "source": [
        "data.isnull().any()"
      ],
      "metadata": {
        "colab": {
          "base_uri": "https://localhost:8080/"
        },
        "id": "4nTuHCmI-FM9",
        "outputId": "21e1b666-a94d-4e58-ffc1-ad7b5f64fd00"
      },
      "execution_count": 56,
      "outputs": [
        {
          "output_type": "execute_result",
          "data": {
            "text/plain": [
              "CustomerID                False\n",
              "Gender                    False\n",
              "Age                       False\n",
              "Annual Income (k$)        False\n",
              "Spending Score (1-100)    False\n",
              "dtype: bool"
            ]
          },
          "metadata": {},
          "execution_count": 56
        }
      ]
    },
    {
      "cell_type": "markdown",
      "source": [
        "# FIND THE OUTLIERS AND REPLACE THE OUTLIERS"
      ],
      "metadata": {
        "id": "urgIWauz-RnP"
      }
    },
    {
      "cell_type": "code",
      "source": [
        "iq=data.quantile(q=[0.1,0.2,0.3])\n",
        "iq"
      ],
      "metadata": {
        "colab": {
          "base_uri": "https://localhost:8080/",
          "height": 143
        },
        "id": "R3BQBKEI-TIH",
        "outputId": "8e94549b-42b6-4b00-e353-92251c1d2d18"
      },
      "execution_count": 61,
      "outputs": [
        {
          "output_type": "execute_result",
          "data": {
            "text/plain": [
              "     CustomerID   Age  Annual Income (k$)  Spending Score (1-100)\n",
              "0.1        20.9  21.0                23.9                    13.0\n",
              "0.2        40.8  26.8                37.8                    26.0\n",
              "0.3        60.7  30.0                46.0                    40.0"
            ],
            "text/html": [
              "\n",
              "  <div id=\"df-76a84729-a67a-4323-bbda-04d7cfb184d2\">\n",
              "    <div class=\"colab-df-container\">\n",
              "      <div>\n",
              "<style scoped>\n",
              "    .dataframe tbody tr th:only-of-type {\n",
              "        vertical-align: middle;\n",
              "    }\n",
              "\n",
              "    .dataframe tbody tr th {\n",
              "        vertical-align: top;\n",
              "    }\n",
              "\n",
              "    .dataframe thead th {\n",
              "        text-align: right;\n",
              "    }\n",
              "</style>\n",
              "<table border=\"1\" class=\"dataframe\">\n",
              "  <thead>\n",
              "    <tr style=\"text-align: right;\">\n",
              "      <th></th>\n",
              "      <th>CustomerID</th>\n",
              "      <th>Age</th>\n",
              "      <th>Annual Income (k$)</th>\n",
              "      <th>Spending Score (1-100)</th>\n",
              "    </tr>\n",
              "  </thead>\n",
              "  <tbody>\n",
              "    <tr>\n",
              "      <th>0.1</th>\n",
              "      <td>20.9</td>\n",
              "      <td>21.0</td>\n",
              "      <td>23.9</td>\n",
              "      <td>13.0</td>\n",
              "    </tr>\n",
              "    <tr>\n",
              "      <th>0.2</th>\n",
              "      <td>40.8</td>\n",
              "      <td>26.8</td>\n",
              "      <td>37.8</td>\n",
              "      <td>26.0</td>\n",
              "    </tr>\n",
              "    <tr>\n",
              "      <th>0.3</th>\n",
              "      <td>60.7</td>\n",
              "      <td>30.0</td>\n",
              "      <td>46.0</td>\n",
              "      <td>40.0</td>\n",
              "    </tr>\n",
              "  </tbody>\n",
              "</table>\n",
              "</div>\n",
              "      <button class=\"colab-df-convert\" onclick=\"convertToInteractive('df-76a84729-a67a-4323-bbda-04d7cfb184d2')\"\n",
              "              title=\"Convert this dataframe to an interactive table.\"\n",
              "              style=\"display:none;\">\n",
              "        \n",
              "  <svg xmlns=\"http://www.w3.org/2000/svg\" height=\"24px\"viewBox=\"0 0 24 24\"\n",
              "       width=\"24px\">\n",
              "    <path d=\"M0 0h24v24H0V0z\" fill=\"none\"/>\n",
              "    <path d=\"M18.56 5.44l.94 2.06.94-2.06 2.06-.94-2.06-.94-.94-2.06-.94 2.06-2.06.94zm-11 1L8.5 8.5l.94-2.06 2.06-.94-2.06-.94L8.5 2.5l-.94 2.06-2.06.94zm10 10l.94 2.06.94-2.06 2.06-.94-2.06-.94-.94-2.06-.94 2.06-2.06.94z\"/><path d=\"M17.41 7.96l-1.37-1.37c-.4-.4-.92-.59-1.43-.59-.52 0-1.04.2-1.43.59L10.3 9.45l-7.72 7.72c-.78.78-.78 2.05 0 2.83L4 21.41c.39.39.9.59 1.41.59.51 0 1.02-.2 1.41-.59l7.78-7.78 2.81-2.81c.8-.78.8-2.07 0-2.86zM5.41 20L4 18.59l7.72-7.72 1.47 1.35L5.41 20z\"/>\n",
              "  </svg>\n",
              "      </button>\n",
              "      \n",
              "  <style>\n",
              "    .colab-df-container {\n",
              "      display:flex;\n",
              "      flex-wrap:wrap;\n",
              "      gap: 12px;\n",
              "    }\n",
              "\n",
              "    .colab-df-convert {\n",
              "      background-color: #E8F0FE;\n",
              "      border: none;\n",
              "      border-radius: 50%;\n",
              "      cursor: pointer;\n",
              "      display: none;\n",
              "      fill: #1967D2;\n",
              "      height: 32px;\n",
              "      padding: 0 0 0 0;\n",
              "      width: 32px;\n",
              "    }\n",
              "\n",
              "    .colab-df-convert:hover {\n",
              "      background-color: #E2EBFA;\n",
              "      box-shadow: 0px 1px 2px rgba(60, 64, 67, 0.3), 0px 1px 3px 1px rgba(60, 64, 67, 0.15);\n",
              "      fill: #174EA6;\n",
              "    }\n",
              "\n",
              "    [theme=dark] .colab-df-convert {\n",
              "      background-color: #3B4455;\n",
              "      fill: #D2E3FC;\n",
              "    }\n",
              "\n",
              "    [theme=dark] .colab-df-convert:hover {\n",
              "      background-color: #434B5C;\n",
              "      box-shadow: 0px 1px 3px 1px rgba(0, 0, 0, 0.15);\n",
              "      filter: drop-shadow(0px 1px 2px rgba(0, 0, 0, 0.3));\n",
              "      fill: #FFFFFF;\n",
              "    }\n",
              "  </style>\n",
              "\n",
              "      <script>\n",
              "        const buttonEl =\n",
              "          document.querySelector('#df-76a84729-a67a-4323-bbda-04d7cfb184d2 button.colab-df-convert');\n",
              "        buttonEl.style.display =\n",
              "          google.colab.kernel.accessAllowed ? 'block' : 'none';\n",
              "\n",
              "        async function convertToInteractive(key) {\n",
              "          const element = document.querySelector('#df-76a84729-a67a-4323-bbda-04d7cfb184d2');\n",
              "          const dataTable =\n",
              "            await google.colab.kernel.invokeFunction('convertToInteractive',\n",
              "                                                     [key], {});\n",
              "          if (!dataTable) return;\n",
              "\n",
              "          const docLinkHtml = 'Like what you see? Visit the ' +\n",
              "            '<a target=\"_blank\" href=https://colab.research.google.com/notebooks/data_table.ipynb>data table notebook</a>'\n",
              "            + ' to learn more about interactive tables.';\n",
              "          element.innerHTML = '';\n",
              "          dataTable['output_type'] = 'display_data';\n",
              "          await google.colab.output.renderOutput(dataTable, element);\n",
              "          const docLink = document.createElement('div');\n",
              "          docLink.innerHTML = docLinkHtml;\n",
              "          element.appendChild(docLink);\n",
              "        }\n",
              "      </script>\n",
              "    </div>\n",
              "  </div>\n",
              "  "
            ]
          },
          "metadata": {},
          "execution_count": 61
        }
      ]
    },
    {
      "cell_type": "code",
      "source": [
        "iq.iloc[0]\n",
        "iq.iloc[1]\n",
        "IQR = iq.iloc[0] - iq.iloc[1]\n",
        "upper_extrem = iq.iloc[0] + ( 1.5 * IQR)  \n",
        "lower_extrem = iq.iloc[1] - ( 1.5 * IQR)   \n",
        "upper_extrem"
      ],
      "metadata": {
        "colab": {
          "base_uri": "https://localhost:8080/"
        },
        "id": "eBFtuX_L-ZVb",
        "outputId": "0e72ba0b-3fbc-4484-9a8a-92ea3e799063"
      },
      "execution_count": 62,
      "outputs": [
        {
          "output_type": "execute_result",
          "data": {
            "text/plain": [
              "CustomerID                -8.95\n",
              "Age                       12.30\n",
              "Annual Income (k$)         3.05\n",
              "Spending Score (1-100)    -6.50\n",
              "dtype: float64"
            ]
          },
          "metadata": {},
          "execution_count": 62
        }
      ]
    },
    {
      "cell_type": "code",
      "source": [
        "lower_extrem"
      ],
      "metadata": {
        "colab": {
          "base_uri": "https://localhost:8080/"
        },
        "id": "dO-1SJ1h-til",
        "outputId": "c11898c1-aeb6-42ae-f58a-0d5cab159e81"
      },
      "execution_count": 63,
      "outputs": [
        {
          "output_type": "execute_result",
          "data": {
            "text/plain": [
              "CustomerID                70.65\n",
              "Age                       35.50\n",
              "Annual Income (k$)        58.65\n",
              "Spending Score (1-100)    45.50\n",
              "dtype: float64"
            ]
          },
          "metadata": {},
          "execution_count": 63
        }
      ]
    },
    {
      "cell_type": "markdown",
      "source": [
        "# CHECK CATEGORICAL COLUMNS AND PERFORM ENCODING"
      ],
      "metadata": {
        "id": "hVNgGiJU_AK0"
      }
    },
    {
      "cell_type": "code",
      "source": [
        "from sklearn.preprocessing import LabelEncoder"
      ],
      "metadata": {
        "id": "IXNecqsj_BoV"
      },
      "execution_count": 87,
      "outputs": []
    },
    {
      "cell_type": "code",
      "source": [
        "le = LabelEncoder()\n",
        "data[\"Gender\"] = le.fit_transform(data[\"Gender\"])"
      ],
      "metadata": {
        "id": "S0rPCP-K_Q-j"
      },
      "execution_count": 88,
      "outputs": []
    },
    {
      "cell_type": "code",
      "source": [
        "data"
      ],
      "metadata": {
        "colab": {
          "base_uri": "https://localhost:8080/",
          "height": 423
        },
        "id": "AaQxZ63MAPDt",
        "outputId": "4b4bd3cf-fb26-404e-b55c-b69cedc6181f"
      },
      "execution_count": 89,
      "outputs": [
        {
          "output_type": "execute_result",
          "data": {
            "text/plain": [
              "     CustomerID  Gender  Age  Annual Income (k$)  Spending Score (1-100)\n",
              "0             1       1   19                  15                      39\n",
              "1             2       1   21                  15                      81\n",
              "2             3       0   20                  16                       6\n",
              "3             4       0   23                  16                      77\n",
              "4             5       0   31                  17                      40\n",
              "..          ...     ...  ...                 ...                     ...\n",
              "195         196       0   35                 120                      79\n",
              "196         197       0   45                 126                      28\n",
              "197         198       1   32                 126                      74\n",
              "198         199       1   32                 137                      18\n",
              "199         200       1   30                 137                      83\n",
              "\n",
              "[200 rows x 5 columns]"
            ],
            "text/html": [
              "\n",
              "  <div id=\"df-91ad14ed-7ec0-4167-8505-cd589c33f3ef\">\n",
              "    <div class=\"colab-df-container\">\n",
              "      <div>\n",
              "<style scoped>\n",
              "    .dataframe tbody tr th:only-of-type {\n",
              "        vertical-align: middle;\n",
              "    }\n",
              "\n",
              "    .dataframe tbody tr th {\n",
              "        vertical-align: top;\n",
              "    }\n",
              "\n",
              "    .dataframe thead th {\n",
              "        text-align: right;\n",
              "    }\n",
              "</style>\n",
              "<table border=\"1\" class=\"dataframe\">\n",
              "  <thead>\n",
              "    <tr style=\"text-align: right;\">\n",
              "      <th></th>\n",
              "      <th>CustomerID</th>\n",
              "      <th>Gender</th>\n",
              "      <th>Age</th>\n",
              "      <th>Annual Income (k$)</th>\n",
              "      <th>Spending Score (1-100)</th>\n",
              "    </tr>\n",
              "  </thead>\n",
              "  <tbody>\n",
              "    <tr>\n",
              "      <th>0</th>\n",
              "      <td>1</td>\n",
              "      <td>1</td>\n",
              "      <td>19</td>\n",
              "      <td>15</td>\n",
              "      <td>39</td>\n",
              "    </tr>\n",
              "    <tr>\n",
              "      <th>1</th>\n",
              "      <td>2</td>\n",
              "      <td>1</td>\n",
              "      <td>21</td>\n",
              "      <td>15</td>\n",
              "      <td>81</td>\n",
              "    </tr>\n",
              "    <tr>\n",
              "      <th>2</th>\n",
              "      <td>3</td>\n",
              "      <td>0</td>\n",
              "      <td>20</td>\n",
              "      <td>16</td>\n",
              "      <td>6</td>\n",
              "    </tr>\n",
              "    <tr>\n",
              "      <th>3</th>\n",
              "      <td>4</td>\n",
              "      <td>0</td>\n",
              "      <td>23</td>\n",
              "      <td>16</td>\n",
              "      <td>77</td>\n",
              "    </tr>\n",
              "    <tr>\n",
              "      <th>4</th>\n",
              "      <td>5</td>\n",
              "      <td>0</td>\n",
              "      <td>31</td>\n",
              "      <td>17</td>\n",
              "      <td>40</td>\n",
              "    </tr>\n",
              "    <tr>\n",
              "      <th>...</th>\n",
              "      <td>...</td>\n",
              "      <td>...</td>\n",
              "      <td>...</td>\n",
              "      <td>...</td>\n",
              "      <td>...</td>\n",
              "    </tr>\n",
              "    <tr>\n",
              "      <th>195</th>\n",
              "      <td>196</td>\n",
              "      <td>0</td>\n",
              "      <td>35</td>\n",
              "      <td>120</td>\n",
              "      <td>79</td>\n",
              "    </tr>\n",
              "    <tr>\n",
              "      <th>196</th>\n",
              "      <td>197</td>\n",
              "      <td>0</td>\n",
              "      <td>45</td>\n",
              "      <td>126</td>\n",
              "      <td>28</td>\n",
              "    </tr>\n",
              "    <tr>\n",
              "      <th>197</th>\n",
              "      <td>198</td>\n",
              "      <td>1</td>\n",
              "      <td>32</td>\n",
              "      <td>126</td>\n",
              "      <td>74</td>\n",
              "    </tr>\n",
              "    <tr>\n",
              "      <th>198</th>\n",
              "      <td>199</td>\n",
              "      <td>1</td>\n",
              "      <td>32</td>\n",
              "      <td>137</td>\n",
              "      <td>18</td>\n",
              "    </tr>\n",
              "    <tr>\n",
              "      <th>199</th>\n",
              "      <td>200</td>\n",
              "      <td>1</td>\n",
              "      <td>30</td>\n",
              "      <td>137</td>\n",
              "      <td>83</td>\n",
              "    </tr>\n",
              "  </tbody>\n",
              "</table>\n",
              "<p>200 rows × 5 columns</p>\n",
              "</div>\n",
              "      <button class=\"colab-df-convert\" onclick=\"convertToInteractive('df-91ad14ed-7ec0-4167-8505-cd589c33f3ef')\"\n",
              "              title=\"Convert this dataframe to an interactive table.\"\n",
              "              style=\"display:none;\">\n",
              "        \n",
              "  <svg xmlns=\"http://www.w3.org/2000/svg\" height=\"24px\"viewBox=\"0 0 24 24\"\n",
              "       width=\"24px\">\n",
              "    <path d=\"M0 0h24v24H0V0z\" fill=\"none\"/>\n",
              "    <path d=\"M18.56 5.44l.94 2.06.94-2.06 2.06-.94-2.06-.94-.94-2.06-.94 2.06-2.06.94zm-11 1L8.5 8.5l.94-2.06 2.06-.94-2.06-.94L8.5 2.5l-.94 2.06-2.06.94zm10 10l.94 2.06.94-2.06 2.06-.94-2.06-.94-.94-2.06-.94 2.06-2.06.94z\"/><path d=\"M17.41 7.96l-1.37-1.37c-.4-.4-.92-.59-1.43-.59-.52 0-1.04.2-1.43.59L10.3 9.45l-7.72 7.72c-.78.78-.78 2.05 0 2.83L4 21.41c.39.39.9.59 1.41.59.51 0 1.02-.2 1.41-.59l7.78-7.78 2.81-2.81c.8-.78.8-2.07 0-2.86zM5.41 20L4 18.59l7.72-7.72 1.47 1.35L5.41 20z\"/>\n",
              "  </svg>\n",
              "      </button>\n",
              "      \n",
              "  <style>\n",
              "    .colab-df-container {\n",
              "      display:flex;\n",
              "      flex-wrap:wrap;\n",
              "      gap: 12px;\n",
              "    }\n",
              "\n",
              "    .colab-df-convert {\n",
              "      background-color: #E8F0FE;\n",
              "      border: none;\n",
              "      border-radius: 50%;\n",
              "      cursor: pointer;\n",
              "      display: none;\n",
              "      fill: #1967D2;\n",
              "      height: 32px;\n",
              "      padding: 0 0 0 0;\n",
              "      width: 32px;\n",
              "    }\n",
              "\n",
              "    .colab-df-convert:hover {\n",
              "      background-color: #E2EBFA;\n",
              "      box-shadow: 0px 1px 2px rgba(60, 64, 67, 0.3), 0px 1px 3px 1px rgba(60, 64, 67, 0.15);\n",
              "      fill: #174EA6;\n",
              "    }\n",
              "\n",
              "    [theme=dark] .colab-df-convert {\n",
              "      background-color: #3B4455;\n",
              "      fill: #D2E3FC;\n",
              "    }\n",
              "\n",
              "    [theme=dark] .colab-df-convert:hover {\n",
              "      background-color: #434B5C;\n",
              "      box-shadow: 0px 1px 3px 1px rgba(0, 0, 0, 0.15);\n",
              "      filter: drop-shadow(0px 1px 2px rgba(0, 0, 0, 0.3));\n",
              "      fill: #FFFFFF;\n",
              "    }\n",
              "  </style>\n",
              "\n",
              "      <script>\n",
              "        const buttonEl =\n",
              "          document.querySelector('#df-91ad14ed-7ec0-4167-8505-cd589c33f3ef button.colab-df-convert');\n",
              "        buttonEl.style.display =\n",
              "          google.colab.kernel.accessAllowed ? 'block' : 'none';\n",
              "\n",
              "        async function convertToInteractive(key) {\n",
              "          const element = document.querySelector('#df-91ad14ed-7ec0-4167-8505-cd589c33f3ef');\n",
              "          const dataTable =\n",
              "            await google.colab.kernel.invokeFunction('convertToInteractive',\n",
              "                                                     [key], {});\n",
              "          if (!dataTable) return;\n",
              "\n",
              "          const docLinkHtml = 'Like what you see? Visit the ' +\n",
              "            '<a target=\"_blank\" href=https://colab.research.google.com/notebooks/data_table.ipynb>data table notebook</a>'\n",
              "            + ' to learn more about interactive tables.';\n",
              "          element.innerHTML = '';\n",
              "          dataTable['output_type'] = 'display_data';\n",
              "          await google.colab.output.renderOutput(dataTable, element);\n",
              "          const docLink = document.createElement('div');\n",
              "          docLink.innerHTML = docLinkHtml;\n",
              "          element.appendChild(docLink);\n",
              "        }\n",
              "      </script>\n",
              "    </div>\n",
              "  </div>\n",
              "  "
            ]
          },
          "metadata": {},
          "execution_count": 89
        }
      ]
    },
    {
      "cell_type": "code",
      "source": [
        "data.head()"
      ],
      "metadata": {
        "colab": {
          "base_uri": "https://localhost:8080/",
          "height": 206
        },
        "id": "vJvxQ52CAoyY",
        "outputId": "8efc0a33-0bb3-44de-f66a-69d4867f4d69"
      },
      "execution_count": 90,
      "outputs": [
        {
          "output_type": "execute_result",
          "data": {
            "text/plain": [
              "   CustomerID  Gender  Age  Annual Income (k$)  Spending Score (1-100)\n",
              "0           1       1   19                  15                      39\n",
              "1           2       1   21                  15                      81\n",
              "2           3       0   20                  16                       6\n",
              "3           4       0   23                  16                      77\n",
              "4           5       0   31                  17                      40"
            ],
            "text/html": [
              "\n",
              "  <div id=\"df-d317c6ce-d670-4524-847f-78a531632173\">\n",
              "    <div class=\"colab-df-container\">\n",
              "      <div>\n",
              "<style scoped>\n",
              "    .dataframe tbody tr th:only-of-type {\n",
              "        vertical-align: middle;\n",
              "    }\n",
              "\n",
              "    .dataframe tbody tr th {\n",
              "        vertical-align: top;\n",
              "    }\n",
              "\n",
              "    .dataframe thead th {\n",
              "        text-align: right;\n",
              "    }\n",
              "</style>\n",
              "<table border=\"1\" class=\"dataframe\">\n",
              "  <thead>\n",
              "    <tr style=\"text-align: right;\">\n",
              "      <th></th>\n",
              "      <th>CustomerID</th>\n",
              "      <th>Gender</th>\n",
              "      <th>Age</th>\n",
              "      <th>Annual Income (k$)</th>\n",
              "      <th>Spending Score (1-100)</th>\n",
              "    </tr>\n",
              "  </thead>\n",
              "  <tbody>\n",
              "    <tr>\n",
              "      <th>0</th>\n",
              "      <td>1</td>\n",
              "      <td>1</td>\n",
              "      <td>19</td>\n",
              "      <td>15</td>\n",
              "      <td>39</td>\n",
              "    </tr>\n",
              "    <tr>\n",
              "      <th>1</th>\n",
              "      <td>2</td>\n",
              "      <td>1</td>\n",
              "      <td>21</td>\n",
              "      <td>15</td>\n",
              "      <td>81</td>\n",
              "    </tr>\n",
              "    <tr>\n",
              "      <th>2</th>\n",
              "      <td>3</td>\n",
              "      <td>0</td>\n",
              "      <td>20</td>\n",
              "      <td>16</td>\n",
              "      <td>6</td>\n",
              "    </tr>\n",
              "    <tr>\n",
              "      <th>3</th>\n",
              "      <td>4</td>\n",
              "      <td>0</td>\n",
              "      <td>23</td>\n",
              "      <td>16</td>\n",
              "      <td>77</td>\n",
              "    </tr>\n",
              "    <tr>\n",
              "      <th>4</th>\n",
              "      <td>5</td>\n",
              "      <td>0</td>\n",
              "      <td>31</td>\n",
              "      <td>17</td>\n",
              "      <td>40</td>\n",
              "    </tr>\n",
              "  </tbody>\n",
              "</table>\n",
              "</div>\n",
              "      <button class=\"colab-df-convert\" onclick=\"convertToInteractive('df-d317c6ce-d670-4524-847f-78a531632173')\"\n",
              "              title=\"Convert this dataframe to an interactive table.\"\n",
              "              style=\"display:none;\">\n",
              "        \n",
              "  <svg xmlns=\"http://www.w3.org/2000/svg\" height=\"24px\"viewBox=\"0 0 24 24\"\n",
              "       width=\"24px\">\n",
              "    <path d=\"M0 0h24v24H0V0z\" fill=\"none\"/>\n",
              "    <path d=\"M18.56 5.44l.94 2.06.94-2.06 2.06-.94-2.06-.94-.94-2.06-.94 2.06-2.06.94zm-11 1L8.5 8.5l.94-2.06 2.06-.94-2.06-.94L8.5 2.5l-.94 2.06-2.06.94zm10 10l.94 2.06.94-2.06 2.06-.94-2.06-.94-.94-2.06-.94 2.06-2.06.94z\"/><path d=\"M17.41 7.96l-1.37-1.37c-.4-.4-.92-.59-1.43-.59-.52 0-1.04.2-1.43.59L10.3 9.45l-7.72 7.72c-.78.78-.78 2.05 0 2.83L4 21.41c.39.39.9.59 1.41.59.51 0 1.02-.2 1.41-.59l7.78-7.78 2.81-2.81c.8-.78.8-2.07 0-2.86zM5.41 20L4 18.59l7.72-7.72 1.47 1.35L5.41 20z\"/>\n",
              "  </svg>\n",
              "      </button>\n",
              "      \n",
              "  <style>\n",
              "    .colab-df-container {\n",
              "      display:flex;\n",
              "      flex-wrap:wrap;\n",
              "      gap: 12px;\n",
              "    }\n",
              "\n",
              "    .colab-df-convert {\n",
              "      background-color: #E8F0FE;\n",
              "      border: none;\n",
              "      border-radius: 50%;\n",
              "      cursor: pointer;\n",
              "      display: none;\n",
              "      fill: #1967D2;\n",
              "      height: 32px;\n",
              "      padding: 0 0 0 0;\n",
              "      width: 32px;\n",
              "    }\n",
              "\n",
              "    .colab-df-convert:hover {\n",
              "      background-color: #E2EBFA;\n",
              "      box-shadow: 0px 1px 2px rgba(60, 64, 67, 0.3), 0px 1px 3px 1px rgba(60, 64, 67, 0.15);\n",
              "      fill: #174EA6;\n",
              "    }\n",
              "\n",
              "    [theme=dark] .colab-df-convert {\n",
              "      background-color: #3B4455;\n",
              "      fill: #D2E3FC;\n",
              "    }\n",
              "\n",
              "    [theme=dark] .colab-df-convert:hover {\n",
              "      background-color: #434B5C;\n",
              "      box-shadow: 0px 1px 3px 1px rgba(0, 0, 0, 0.15);\n",
              "      filter: drop-shadow(0px 1px 2px rgba(0, 0, 0, 0.3));\n",
              "      fill: #FFFFFF;\n",
              "    }\n",
              "  </style>\n",
              "\n",
              "      <script>\n",
              "        const buttonEl =\n",
              "          document.querySelector('#df-d317c6ce-d670-4524-847f-78a531632173 button.colab-df-convert');\n",
              "        buttonEl.style.display =\n",
              "          google.colab.kernel.accessAllowed ? 'block' : 'none';\n",
              "\n",
              "        async function convertToInteractive(key) {\n",
              "          const element = document.querySelector('#df-d317c6ce-d670-4524-847f-78a531632173');\n",
              "          const dataTable =\n",
              "            await google.colab.kernel.invokeFunction('convertToInteractive',\n",
              "                                                     [key], {});\n",
              "          if (!dataTable) return;\n",
              "\n",
              "          const docLinkHtml = 'Like what you see? Visit the ' +\n",
              "            '<a target=\"_blank\" href=https://colab.research.google.com/notebooks/data_table.ipynb>data table notebook</a>'\n",
              "            + ' to learn more about interactive tables.';\n",
              "          element.innerHTML = '';\n",
              "          dataTable['output_type'] = 'display_data';\n",
              "          await google.colab.output.renderOutput(dataTable, element);\n",
              "          const docLink = document.createElement('div');\n",
              "          docLink.innerHTML = docLinkHtml;\n",
              "          element.appendChild(docLink);\n",
              "        }\n",
              "      </script>\n",
              "    </div>\n",
              "  </div>\n",
              "  "
            ]
          },
          "metadata": {},
          "execution_count": 90
        }
      ]
    },
    {
      "cell_type": "markdown",
      "source": [
        "# SCALING THE DATA"
      ],
      "metadata": {
        "id": "XsAnZtoTC2nO"
      }
    },
    {
      "cell_type": "code",
      "source": [
        "from sklearn.preprocessing import StandardScaler"
      ],
      "metadata": {
        "id": "_JH6zp5GEw3M"
      },
      "execution_count": 106,
      "outputs": []
    },
    {
      "cell_type": "code",
      "source": [
        "X = data.drop(\"CustomerID\",axis=1)\n",
        "Y = data[\"CustomerID\"]"
      ],
      "metadata": {
        "id": "0ZuLalIjFLX8"
      },
      "execution_count": 111,
      "outputs": []
    },
    {
      "cell_type": "code",
      "source": [
        "object= StandardScaler()\n",
        "scale = object.fit_transform(X) \n",
        "print(scale)"
      ],
      "metadata": {
        "colab": {
          "base_uri": "https://localhost:8080/"
        },
        "id": "RbmL9PrSFiqK",
        "outputId": "0031844e-15d2-43a0-cd39-0fe01f9e37c3"
      },
      "execution_count": 112,
      "outputs": [
        {
          "output_type": "stream",
          "name": "stdout",
          "text": [
            "[[ 1.12815215 -1.42456879 -1.73899919 -0.43480148]\n",
            " [ 1.12815215 -1.28103541 -1.73899919  1.19570407]\n",
            " [-0.88640526 -1.3528021  -1.70082976 -1.71591298]\n",
            " [-0.88640526 -1.13750203 -1.70082976  1.04041783]\n",
            " [-0.88640526 -0.56336851 -1.66266033 -0.39597992]\n",
            " [-0.88640526 -1.20926872 -1.66266033  1.00159627]\n",
            " [-0.88640526 -0.27630176 -1.62449091 -1.71591298]\n",
            " [-0.88640526 -1.13750203 -1.62449091  1.70038436]\n",
            " [ 1.12815215  1.80493225 -1.58632148 -1.83237767]\n",
            " [-0.88640526 -0.6351352  -1.58632148  0.84631002]\n",
            " [ 1.12815215  2.02023231 -1.58632148 -1.4053405 ]\n",
            " [-0.88640526 -0.27630176 -1.58632148  1.89449216]\n",
            " [-0.88640526  1.37433211 -1.54815205 -1.36651894]\n",
            " [-0.88640526 -1.06573534 -1.54815205  1.04041783]\n",
            " [ 1.12815215 -0.13276838 -1.54815205 -1.44416206]\n",
            " [ 1.12815215 -1.20926872 -1.54815205  1.11806095]\n",
            " [-0.88640526 -0.27630176 -1.50998262 -0.59008772]\n",
            " [ 1.12815215 -1.3528021  -1.50998262  0.61338066]\n",
            " [ 1.12815215  0.94373197 -1.43364376 -0.82301709]\n",
            " [-0.88640526 -0.27630176 -1.43364376  1.8556706 ]\n",
            " [ 1.12815215 -0.27630176 -1.39547433 -0.59008772]\n",
            " [ 1.12815215 -0.99396865 -1.39547433  0.88513158]\n",
            " [-0.88640526  0.51313183 -1.3573049  -1.75473454]\n",
            " [ 1.12815215 -0.56336851 -1.3573049   0.88513158]\n",
            " [-0.88640526  1.08726535 -1.24279661 -1.4053405 ]\n",
            " [ 1.12815215 -0.70690189 -1.24279661  1.23452563]\n",
            " [-0.88640526  0.44136514 -1.24279661 -0.7065524 ]\n",
            " [ 1.12815215 -0.27630176 -1.24279661  0.41927286]\n",
            " [-0.88640526  0.08253169 -1.20462718 -0.74537397]\n",
            " [-0.88640526 -1.13750203 -1.20462718  1.42863343]\n",
            " [ 1.12815215  1.51786549 -1.16645776 -1.7935561 ]\n",
            " [-0.88640526 -1.28103541 -1.16645776  0.88513158]\n",
            " [ 1.12815215  1.01549866 -1.05194947 -1.7935561 ]\n",
            " [ 1.12815215 -1.49633548 -1.05194947  1.62274124]\n",
            " [-0.88640526  0.7284319  -1.05194947 -1.4053405 ]\n",
            " [-0.88640526 -1.28103541 -1.05194947  1.19570407]\n",
            " [-0.88640526  0.22606507 -1.01378004 -1.28887582]\n",
            " [-0.88640526 -0.6351352  -1.01378004  0.88513158]\n",
            " [-0.88640526 -0.20453507 -0.89927175 -0.93948177]\n",
            " [-0.88640526 -1.3528021  -0.89927175  0.96277471]\n",
            " [-0.88640526  1.87669894 -0.86110232 -0.59008772]\n",
            " [ 1.12815215 -1.06573534 -0.86110232  1.62274124]\n",
            " [ 1.12815215  0.65666521 -0.82293289 -0.55126616]\n",
            " [-0.88640526 -0.56336851 -0.82293289  0.41927286]\n",
            " [-0.88640526  0.7284319  -0.82293289 -0.86183865]\n",
            " [-0.88640526 -1.06573534 -0.82293289  0.5745591 ]\n",
            " [-0.88640526  0.80019859 -0.78476346  0.18634349]\n",
            " [-0.88640526 -0.85043527 -0.78476346 -0.12422899]\n",
            " [-0.88640526 -0.70690189 -0.78476346 -0.3183368 ]\n",
            " [-0.88640526 -0.56336851 -0.78476346 -0.3183368 ]\n",
            " [-0.88640526  0.7284319  -0.70842461  0.06987881]\n",
            " [ 1.12815215 -0.41983513 -0.70842461  0.38045129]\n",
            " [-0.88640526 -0.56336851 -0.67025518  0.14752193]\n",
            " [ 1.12815215  1.4460988  -0.67025518  0.38045129]\n",
            " [-0.88640526  0.80019859 -0.67025518 -0.20187212]\n",
            " [ 1.12815215  0.58489852 -0.67025518 -0.35715836]\n",
            " [-0.88640526  0.87196528 -0.63208575 -0.00776431]\n",
            " [ 1.12815215  2.16376569 -0.63208575 -0.16305055]\n",
            " [-0.88640526 -0.85043527 -0.55574689  0.03105725]\n",
            " [ 1.12815215  1.01549866 -0.55574689 -0.16305055]\n",
            " [ 1.12815215  2.23553238 -0.55574689  0.22516505]\n",
            " [ 1.12815215 -1.42456879 -0.55574689  0.18634349]\n",
            " [-0.88640526  2.02023231 -0.51757746  0.06987881]\n",
            " [-0.88640526  1.08726535 -0.51757746  0.34162973]\n",
            " [ 1.12815215  1.73316556 -0.47940803  0.03105725]\n",
            " [ 1.12815215 -1.49633548 -0.47940803  0.34162973]\n",
            " [-0.88640526  0.29783176 -0.47940803 -0.00776431]\n",
            " [-0.88640526  2.091999   -0.47940803 -0.08540743]\n",
            " [ 1.12815215 -1.42456879 -0.47940803  0.34162973]\n",
            " [-0.88640526 -0.49160182 -0.47940803 -0.12422899]\n",
            " [ 1.12815215  2.23553238 -0.4412386   0.18634349]\n",
            " [-0.88640526  0.58489852 -0.4412386  -0.3183368 ]\n",
            " [-0.88640526  1.51786549 -0.40306917 -0.04658587]\n",
            " [-0.88640526  1.51786549 -0.40306917  0.22516505]\n",
            " [ 1.12815215  1.4460988  -0.25039146 -0.12422899]\n",
            " [ 1.12815215 -0.92220196 -0.25039146  0.14752193]\n",
            " [-0.88640526  0.44136514 -0.25039146  0.10870037]\n",
            " [ 1.12815215  0.08253169 -0.25039146 -0.08540743]\n",
            " [-0.88640526 -1.13750203 -0.25039146  0.06987881]\n",
            " [-0.88640526  0.7284319  -0.25039146 -0.3183368 ]\n",
            " [ 1.12815215  1.30256542 -0.25039146  0.03105725]\n",
            " [ 1.12815215 -0.06100169 -0.25039146  0.18634349]\n",
            " [ 1.12815215  2.02023231 -0.25039146 -0.35715836]\n",
            " [-0.88640526  0.51313183 -0.25039146 -0.24069368]\n",
            " [-0.88640526 -1.28103541 -0.25039146  0.26398661]\n",
            " [ 1.12815215  0.65666521 -0.25039146 -0.16305055]\n",
            " [-0.88640526  1.15903204 -0.13588317  0.30280817]\n",
            " [-0.88640526 -1.20926872 -0.13588317  0.18634349]\n",
            " [-0.88640526 -0.34806844 -0.09771374  0.38045129]\n",
            " [-0.88640526  0.80019859 -0.09771374 -0.16305055]\n",
            " [-0.88640526  2.091999   -0.05954431  0.18634349]\n",
            " [ 1.12815215 -1.49633548 -0.05954431 -0.35715836]\n",
            " [ 1.12815215  0.65666521 -0.02137488 -0.04658587]\n",
            " [-0.88640526  0.08253169 -0.02137488 -0.39597992]\n",
            " [-0.88640526 -0.49160182 -0.02137488 -0.3183368 ]\n",
            " [ 1.12815215 -1.06573534 -0.02137488  0.06987881]\n",
            " [-0.88640526  0.58489852 -0.02137488 -0.12422899]\n",
            " [-0.88640526 -0.85043527 -0.02137488 -0.00776431]\n",
            " [ 1.12815215  0.65666521  0.01679455 -0.3183368 ]\n",
            " [ 1.12815215 -1.3528021   0.01679455 -0.04658587]\n",
            " [-0.88640526 -1.13750203  0.05496398 -0.35715836]\n",
            " [-0.88640526  0.7284319   0.05496398 -0.08540743]\n",
            " [ 1.12815215  2.02023231  0.05496398  0.34162973]\n",
            " [ 1.12815215 -0.92220196  0.05496398  0.18634349]\n",
            " [ 1.12815215  0.7284319   0.05496398  0.22516505]\n",
            " [-0.88640526 -1.28103541  0.05496398 -0.3183368 ]\n",
            " [-0.88640526  1.94846562  0.09313341 -0.00776431]\n",
            " [ 1.12815215  1.08726535  0.09313341 -0.16305055]\n",
            " [ 1.12815215  2.091999    0.09313341 -0.27951524]\n",
            " [ 1.12815215  1.94846562  0.09313341 -0.08540743]\n",
            " [ 1.12815215  1.87669894  0.09313341  0.06987881]\n",
            " [-0.88640526 -1.42456879  0.09313341  0.14752193]\n",
            " [-0.88640526 -0.06100169  0.13130284 -0.3183368 ]\n",
            " [ 1.12815215 -1.42456879  0.13130284 -0.16305055]\n",
            " [-0.88640526 -1.49633548  0.16947227 -0.08540743]\n",
            " [-0.88640526 -1.42456879  0.16947227 -0.00776431]\n",
            " [-0.88640526  1.73316556  0.16947227 -0.27951524]\n",
            " [-0.88640526  0.7284319   0.16947227  0.34162973]\n",
            " [-0.88640526  0.87196528  0.24581112 -0.27951524]\n",
            " [-0.88640526  0.80019859  0.24581112  0.26398661]\n",
            " [ 1.12815215 -0.85043527  0.24581112  0.22516505]\n",
            " [-0.88640526 -0.06100169  0.24581112 -0.39597992]\n",
            " [-0.88640526  0.08253169  0.32214998  0.30280817]\n",
            " [ 1.12815215  0.010765    0.32214998  1.58391968]\n",
            " [-0.88640526 -1.13750203  0.36031941 -0.82301709]\n",
            " [-0.88640526 -0.56336851  0.36031941  1.04041783]\n",
            " [ 1.12815215  0.29783176  0.39848884 -0.59008772]\n",
            " [ 1.12815215  0.08253169  0.39848884  1.73920592]\n",
            " [ 1.12815215  1.4460988   0.39848884 -1.52180518]\n",
            " [ 1.12815215 -0.06100169  0.39848884  0.96277471]\n",
            " [ 1.12815215  0.58489852  0.39848884 -1.5994483 ]\n",
            " [ 1.12815215  0.010765    0.39848884  0.96277471]\n",
            " [-0.88640526 -0.99396865  0.43665827 -0.62890928]\n",
            " [-0.88640526 -0.56336851  0.43665827  0.80748846]\n",
            " [ 1.12815215 -1.3528021   0.4748277  -1.75473454]\n",
            " [-0.88640526 -0.70690189  0.4748277   1.46745499]\n",
            " [-0.88640526  0.36959845  0.4748277  -1.67709142]\n",
            " [ 1.12815215 -0.49160182  0.4748277   0.88513158]\n",
            " [ 1.12815215 -1.42456879  0.51299713 -1.56062674]\n",
            " [-0.88640526 -0.27630176  0.51299713  0.84631002]\n",
            " [-0.88640526  1.30256542  0.55116656 -1.75473454]\n",
            " [ 1.12815215 -0.49160182  0.55116656  1.6615628 ]\n",
            " [-0.88640526 -0.77866858  0.58933599 -0.39597992]\n",
            " [-0.88640526 -0.49160182  0.58933599  1.42863343]\n",
            " [ 1.12815215 -0.99396865  0.62750542 -1.48298362]\n",
            " [ 1.12815215 -0.77866858  0.62750542  1.81684904]\n",
            " [ 1.12815215  0.65666521  0.62750542 -0.55126616]\n",
            " [-0.88640526 -0.49160182  0.62750542  0.92395314]\n",
            " [-0.88640526 -0.34806844  0.66567484 -1.09476801]\n",
            " [ 1.12815215 -0.34806844  0.66567484  1.54509812]\n",
            " [ 1.12815215  0.29783176  0.66567484 -1.28887582]\n",
            " [ 1.12815215  0.010765    0.66567484  1.46745499]\n",
            " [-0.88640526  0.36959845  0.66567484 -1.17241113]\n",
            " [-0.88640526 -0.06100169  0.66567484  1.00159627]\n",
            " [-0.88640526  0.58489852  0.66567484 -1.32769738]\n",
            " [-0.88640526 -0.85043527  0.66567484  1.50627656]\n",
            " [ 1.12815215 -0.13276838  0.66567484 -1.91002079]\n",
            " [-0.88640526 -0.6351352   0.66567484  1.07923939]\n",
            " [ 1.12815215 -0.34806844  0.66567484 -1.91002079]\n",
            " [-0.88640526 -0.6351352   0.66567484  0.88513158]\n",
            " [-0.88640526  1.23079873  0.70384427 -0.59008772]\n",
            " [-0.88640526 -0.70690189  0.70384427  1.27334719]\n",
            " [ 1.12815215 -1.42456879  0.78018313 -1.75473454]\n",
            " [-0.88640526 -0.56336851  0.78018313  1.6615628 ]\n",
            " [ 1.12815215  0.80019859  0.93286085 -0.93948177]\n",
            " [-0.88640526 -0.20453507  0.93286085  0.96277471]\n",
            " [ 1.12815215  0.22606507  0.97103028 -1.17241113]\n",
            " [-0.88640526 -0.41983513  0.97103028  1.73920592]\n",
            " [-0.88640526 -0.20453507  1.00919971 -0.90066021]\n",
            " [ 1.12815215 -0.49160182  1.00919971  0.49691598]\n",
            " [ 1.12815215  0.08253169  1.00919971 -1.44416206]\n",
            " [ 1.12815215 -0.77866858  1.00919971  0.96277471]\n",
            " [ 1.12815215 -0.20453507  1.00919971 -1.56062674]\n",
            " [ 1.12815215 -0.20453507  1.00919971  1.62274124]\n",
            " [-0.88640526  0.94373197  1.04736914 -1.44416206]\n",
            " [-0.88640526 -0.6351352   1.04736914  1.38981187]\n",
            " [ 1.12815215  1.37433211  1.04736914 -1.36651894]\n",
            " [ 1.12815215 -0.85043527  1.04736914  0.72984534]\n",
            " [ 1.12815215  1.4460988   1.23821628 -1.4053405 ]\n",
            " [ 1.12815215 -0.27630176  1.23821628  1.54509812]\n",
            " [-0.88640526 -0.13276838  1.390894   -0.7065524 ]\n",
            " [-0.88640526 -0.49160182  1.390894    1.38981187]\n",
            " [ 1.12815215  0.51313183  1.42906343 -1.36651894]\n",
            " [-0.88640526 -0.70690189  1.42906343  1.46745499]\n",
            " [-0.88640526  0.15429838  1.46723286 -0.43480148]\n",
            " [ 1.12815215 -0.6351352   1.46723286  1.81684904]\n",
            " [-0.88640526  1.08726535  1.54357172 -1.01712489]\n",
            " [ 1.12815215 -0.77866858  1.54357172  0.69102378]\n",
            " [-0.88640526  0.15429838  1.61991057 -1.28887582]\n",
            " [-0.88640526 -0.20453507  1.61991057  1.35099031]\n",
            " [-0.88640526 -0.34806844  1.61991057 -1.05594645]\n",
            " [-0.88640526 -0.49160182  1.61991057  0.72984534]\n",
            " [ 1.12815215 -0.41983513  2.00160487 -1.63826986]\n",
            " [-0.88640526 -0.06100169  2.00160487  1.58391968]\n",
            " [-0.88640526  0.58489852  2.26879087 -1.32769738]\n",
            " [-0.88640526 -0.27630176  2.26879087  1.11806095]\n",
            " [-0.88640526  0.44136514  2.49780745 -0.86183865]\n",
            " [ 1.12815215 -0.49160182  2.49780745  0.92395314]\n",
            " [ 1.12815215 -0.49160182  2.91767117 -1.25005425]\n",
            " [ 1.12815215 -0.6351352   2.91767117  1.27334719]]\n"
          ]
        }
      ]
    },
    {
      "cell_type": "code",
      "source": [
        "x = data[[\"Annual Income (k$)\",\"Age\"]]\n",
        "scale = StandardScaler()\n",
        "st_scale = scale.fit_transform(x)\n",
        "st_scale"
      ],
      "metadata": {
        "colab": {
          "base_uri": "https://localhost:8080/"
        },
        "id": "GclLMiH7Fj0l",
        "outputId": "f1f0d291-dd08-4d14-eef8-88f664285f2a"
      },
      "execution_count": 114,
      "outputs": [
        {
          "output_type": "execute_result",
          "data": {
            "text/plain": [
              "array([[-1.73899919, -1.42456879],\n",
              "       [-1.73899919, -1.28103541],\n",
              "       [-1.70082976, -1.3528021 ],\n",
              "       [-1.70082976, -1.13750203],\n",
              "       [-1.66266033, -0.56336851],\n",
              "       [-1.66266033, -1.20926872],\n",
              "       [-1.62449091, -0.27630176],\n",
              "       [-1.62449091, -1.13750203],\n",
              "       [-1.58632148,  1.80493225],\n",
              "       [-1.58632148, -0.6351352 ],\n",
              "       [-1.58632148,  2.02023231],\n",
              "       [-1.58632148, -0.27630176],\n",
              "       [-1.54815205,  1.37433211],\n",
              "       [-1.54815205, -1.06573534],\n",
              "       [-1.54815205, -0.13276838],\n",
              "       [-1.54815205, -1.20926872],\n",
              "       [-1.50998262, -0.27630176],\n",
              "       [-1.50998262, -1.3528021 ],\n",
              "       [-1.43364376,  0.94373197],\n",
              "       [-1.43364376, -0.27630176],\n",
              "       [-1.39547433, -0.27630176],\n",
              "       [-1.39547433, -0.99396865],\n",
              "       [-1.3573049 ,  0.51313183],\n",
              "       [-1.3573049 , -0.56336851],\n",
              "       [-1.24279661,  1.08726535],\n",
              "       [-1.24279661, -0.70690189],\n",
              "       [-1.24279661,  0.44136514],\n",
              "       [-1.24279661, -0.27630176],\n",
              "       [-1.20462718,  0.08253169],\n",
              "       [-1.20462718, -1.13750203],\n",
              "       [-1.16645776,  1.51786549],\n",
              "       [-1.16645776, -1.28103541],\n",
              "       [-1.05194947,  1.01549866],\n",
              "       [-1.05194947, -1.49633548],\n",
              "       [-1.05194947,  0.7284319 ],\n",
              "       [-1.05194947, -1.28103541],\n",
              "       [-1.01378004,  0.22606507],\n",
              "       [-1.01378004, -0.6351352 ],\n",
              "       [-0.89927175, -0.20453507],\n",
              "       [-0.89927175, -1.3528021 ],\n",
              "       [-0.86110232,  1.87669894],\n",
              "       [-0.86110232, -1.06573534],\n",
              "       [-0.82293289,  0.65666521],\n",
              "       [-0.82293289, -0.56336851],\n",
              "       [-0.82293289,  0.7284319 ],\n",
              "       [-0.82293289, -1.06573534],\n",
              "       [-0.78476346,  0.80019859],\n",
              "       [-0.78476346, -0.85043527],\n",
              "       [-0.78476346, -0.70690189],\n",
              "       [-0.78476346, -0.56336851],\n",
              "       [-0.70842461,  0.7284319 ],\n",
              "       [-0.70842461, -0.41983513],\n",
              "       [-0.67025518, -0.56336851],\n",
              "       [-0.67025518,  1.4460988 ],\n",
              "       [-0.67025518,  0.80019859],\n",
              "       [-0.67025518,  0.58489852],\n",
              "       [-0.63208575,  0.87196528],\n",
              "       [-0.63208575,  2.16376569],\n",
              "       [-0.55574689, -0.85043527],\n",
              "       [-0.55574689,  1.01549866],\n",
              "       [-0.55574689,  2.23553238],\n",
              "       [-0.55574689, -1.42456879],\n",
              "       [-0.51757746,  2.02023231],\n",
              "       [-0.51757746,  1.08726535],\n",
              "       [-0.47940803,  1.73316556],\n",
              "       [-0.47940803, -1.49633548],\n",
              "       [-0.47940803,  0.29783176],\n",
              "       [-0.47940803,  2.091999  ],\n",
              "       [-0.47940803, -1.42456879],\n",
              "       [-0.47940803, -0.49160182],\n",
              "       [-0.4412386 ,  2.23553238],\n",
              "       [-0.4412386 ,  0.58489852],\n",
              "       [-0.40306917,  1.51786549],\n",
              "       [-0.40306917,  1.51786549],\n",
              "       [-0.25039146,  1.4460988 ],\n",
              "       [-0.25039146, -0.92220196],\n",
              "       [-0.25039146,  0.44136514],\n",
              "       [-0.25039146,  0.08253169],\n",
              "       [-0.25039146, -1.13750203],\n",
              "       [-0.25039146,  0.7284319 ],\n",
              "       [-0.25039146,  1.30256542],\n",
              "       [-0.25039146, -0.06100169],\n",
              "       [-0.25039146,  2.02023231],\n",
              "       [-0.25039146,  0.51313183],\n",
              "       [-0.25039146, -1.28103541],\n",
              "       [-0.25039146,  0.65666521],\n",
              "       [-0.13588317,  1.15903204],\n",
              "       [-0.13588317, -1.20926872],\n",
              "       [-0.09771374, -0.34806844],\n",
              "       [-0.09771374,  0.80019859],\n",
              "       [-0.05954431,  2.091999  ],\n",
              "       [-0.05954431, -1.49633548],\n",
              "       [-0.02137488,  0.65666521],\n",
              "       [-0.02137488,  0.08253169],\n",
              "       [-0.02137488, -0.49160182],\n",
              "       [-0.02137488, -1.06573534],\n",
              "       [-0.02137488,  0.58489852],\n",
              "       [-0.02137488, -0.85043527],\n",
              "       [ 0.01679455,  0.65666521],\n",
              "       [ 0.01679455, -1.3528021 ],\n",
              "       [ 0.05496398, -1.13750203],\n",
              "       [ 0.05496398,  0.7284319 ],\n",
              "       [ 0.05496398,  2.02023231],\n",
              "       [ 0.05496398, -0.92220196],\n",
              "       [ 0.05496398,  0.7284319 ],\n",
              "       [ 0.05496398, -1.28103541],\n",
              "       [ 0.09313341,  1.94846562],\n",
              "       [ 0.09313341,  1.08726535],\n",
              "       [ 0.09313341,  2.091999  ],\n",
              "       [ 0.09313341,  1.94846562],\n",
              "       [ 0.09313341,  1.87669894],\n",
              "       [ 0.09313341, -1.42456879],\n",
              "       [ 0.13130284, -0.06100169],\n",
              "       [ 0.13130284, -1.42456879],\n",
              "       [ 0.16947227, -1.49633548],\n",
              "       [ 0.16947227, -1.42456879],\n",
              "       [ 0.16947227,  1.73316556],\n",
              "       [ 0.16947227,  0.7284319 ],\n",
              "       [ 0.24581112,  0.87196528],\n",
              "       [ 0.24581112,  0.80019859],\n",
              "       [ 0.24581112, -0.85043527],\n",
              "       [ 0.24581112, -0.06100169],\n",
              "       [ 0.32214998,  0.08253169],\n",
              "       [ 0.32214998,  0.010765  ],\n",
              "       [ 0.36031941, -1.13750203],\n",
              "       [ 0.36031941, -0.56336851],\n",
              "       [ 0.39848884,  0.29783176],\n",
              "       [ 0.39848884,  0.08253169],\n",
              "       [ 0.39848884,  1.4460988 ],\n",
              "       [ 0.39848884, -0.06100169],\n",
              "       [ 0.39848884,  0.58489852],\n",
              "       [ 0.39848884,  0.010765  ],\n",
              "       [ 0.43665827, -0.99396865],\n",
              "       [ 0.43665827, -0.56336851],\n",
              "       [ 0.4748277 , -1.3528021 ],\n",
              "       [ 0.4748277 , -0.70690189],\n",
              "       [ 0.4748277 ,  0.36959845],\n",
              "       [ 0.4748277 , -0.49160182],\n",
              "       [ 0.51299713, -1.42456879],\n",
              "       [ 0.51299713, -0.27630176],\n",
              "       [ 0.55116656,  1.30256542],\n",
              "       [ 0.55116656, -0.49160182],\n",
              "       [ 0.58933599, -0.77866858],\n",
              "       [ 0.58933599, -0.49160182],\n",
              "       [ 0.62750542, -0.99396865],\n",
              "       [ 0.62750542, -0.77866858],\n",
              "       [ 0.62750542,  0.65666521],\n",
              "       [ 0.62750542, -0.49160182],\n",
              "       [ 0.66567484, -0.34806844],\n",
              "       [ 0.66567484, -0.34806844],\n",
              "       [ 0.66567484,  0.29783176],\n",
              "       [ 0.66567484,  0.010765  ],\n",
              "       [ 0.66567484,  0.36959845],\n",
              "       [ 0.66567484, -0.06100169],\n",
              "       [ 0.66567484,  0.58489852],\n",
              "       [ 0.66567484, -0.85043527],\n",
              "       [ 0.66567484, -0.13276838],\n",
              "       [ 0.66567484, -0.6351352 ],\n",
              "       [ 0.66567484, -0.34806844],\n",
              "       [ 0.66567484, -0.6351352 ],\n",
              "       [ 0.70384427,  1.23079873],\n",
              "       [ 0.70384427, -0.70690189],\n",
              "       [ 0.78018313, -1.42456879],\n",
              "       [ 0.78018313, -0.56336851],\n",
              "       [ 0.93286085,  0.80019859],\n",
              "       [ 0.93286085, -0.20453507],\n",
              "       [ 0.97103028,  0.22606507],\n",
              "       [ 0.97103028, -0.41983513],\n",
              "       [ 1.00919971, -0.20453507],\n",
              "       [ 1.00919971, -0.49160182],\n",
              "       [ 1.00919971,  0.08253169],\n",
              "       [ 1.00919971, -0.77866858],\n",
              "       [ 1.00919971, -0.20453507],\n",
              "       [ 1.00919971, -0.20453507],\n",
              "       [ 1.04736914,  0.94373197],\n",
              "       [ 1.04736914, -0.6351352 ],\n",
              "       [ 1.04736914,  1.37433211],\n",
              "       [ 1.04736914, -0.85043527],\n",
              "       [ 1.23821628,  1.4460988 ],\n",
              "       [ 1.23821628, -0.27630176],\n",
              "       [ 1.390894  , -0.13276838],\n",
              "       [ 1.390894  , -0.49160182],\n",
              "       [ 1.42906343,  0.51313183],\n",
              "       [ 1.42906343, -0.70690189],\n",
              "       [ 1.46723286,  0.15429838],\n",
              "       [ 1.46723286, -0.6351352 ],\n",
              "       [ 1.54357172,  1.08726535],\n",
              "       [ 1.54357172, -0.77866858],\n",
              "       [ 1.61991057,  0.15429838],\n",
              "       [ 1.61991057, -0.20453507],\n",
              "       [ 1.61991057, -0.34806844],\n",
              "       [ 1.61991057, -0.49160182],\n",
              "       [ 2.00160487, -0.41983513],\n",
              "       [ 2.00160487, -0.06100169],\n",
              "       [ 2.26879087,  0.58489852],\n",
              "       [ 2.26879087, -0.27630176],\n",
              "       [ 2.49780745,  0.44136514],\n",
              "       [ 2.49780745, -0.49160182],\n",
              "       [ 2.91767117, -0.49160182],\n",
              "       [ 2.91767117, -0.6351352 ]])"
            ]
          },
          "metadata": {},
          "execution_count": 114
        }
      ]
    },
    {
      "cell_type": "code",
      "source": [
        "from sklearn.preprocessing import MinMaxScaler\n",
        "min_max = MinMaxScaler(feature_range=(0,1))\n",
        "n= min_max.fit_transform(x)\n",
        "n"
      ],
      "metadata": {
        "colab": {
          "base_uri": "https://localhost:8080/"
        },
        "id": "idfilTdRGA8P",
        "outputId": "8eac4de8-7df7-4bcd-8005-a84f6a57e235"
      },
      "execution_count": 117,
      "outputs": [
        {
          "output_type": "execute_result",
          "data": {
            "text/plain": [
              "array([[0.        , 0.01923077],\n",
              "       [0.        , 0.05769231],\n",
              "       [0.00819672, 0.03846154],\n",
              "       [0.00819672, 0.09615385],\n",
              "       [0.01639344, 0.25      ],\n",
              "       [0.01639344, 0.07692308],\n",
              "       [0.02459016, 0.32692308],\n",
              "       [0.02459016, 0.09615385],\n",
              "       [0.03278689, 0.88461538],\n",
              "       [0.03278689, 0.23076923],\n",
              "       [0.03278689, 0.94230769],\n",
              "       [0.03278689, 0.32692308],\n",
              "       [0.04098361, 0.76923077],\n",
              "       [0.04098361, 0.11538462],\n",
              "       [0.04098361, 0.36538462],\n",
              "       [0.04098361, 0.07692308],\n",
              "       [0.04918033, 0.32692308],\n",
              "       [0.04918033, 0.03846154],\n",
              "       [0.06557377, 0.65384615],\n",
              "       [0.06557377, 0.32692308],\n",
              "       [0.07377049, 0.32692308],\n",
              "       [0.07377049, 0.13461538],\n",
              "       [0.08196721, 0.53846154],\n",
              "       [0.08196721, 0.25      ],\n",
              "       [0.10655738, 0.69230769],\n",
              "       [0.10655738, 0.21153846],\n",
              "       [0.10655738, 0.51923077],\n",
              "       [0.10655738, 0.32692308],\n",
              "       [0.1147541 , 0.42307692],\n",
              "       [0.1147541 , 0.09615385],\n",
              "       [0.12295082, 0.80769231],\n",
              "       [0.12295082, 0.05769231],\n",
              "       [0.14754098, 0.67307692],\n",
              "       [0.14754098, 0.        ],\n",
              "       [0.14754098, 0.59615385],\n",
              "       [0.14754098, 0.05769231],\n",
              "       [0.1557377 , 0.46153846],\n",
              "       [0.1557377 , 0.23076923],\n",
              "       [0.18032787, 0.34615385],\n",
              "       [0.18032787, 0.03846154],\n",
              "       [0.18852459, 0.90384615],\n",
              "       [0.18852459, 0.11538462],\n",
              "       [0.19672131, 0.57692308],\n",
              "       [0.19672131, 0.25      ],\n",
              "       [0.19672131, 0.59615385],\n",
              "       [0.19672131, 0.11538462],\n",
              "       [0.20491803, 0.61538462],\n",
              "       [0.20491803, 0.17307692],\n",
              "       [0.20491803, 0.21153846],\n",
              "       [0.20491803, 0.25      ],\n",
              "       [0.22131148, 0.59615385],\n",
              "       [0.22131148, 0.28846154],\n",
              "       [0.2295082 , 0.25      ],\n",
              "       [0.2295082 , 0.78846154],\n",
              "       [0.2295082 , 0.61538462],\n",
              "       [0.2295082 , 0.55769231],\n",
              "       [0.23770492, 0.63461538],\n",
              "       [0.23770492, 0.98076923],\n",
              "       [0.25409836, 0.17307692],\n",
              "       [0.25409836, 0.67307692],\n",
              "       [0.25409836, 1.        ],\n",
              "       [0.25409836, 0.01923077],\n",
              "       [0.26229508, 0.94230769],\n",
              "       [0.26229508, 0.69230769],\n",
              "       [0.2704918 , 0.86538462],\n",
              "       [0.2704918 , 0.        ],\n",
              "       [0.2704918 , 0.48076923],\n",
              "       [0.2704918 , 0.96153846],\n",
              "       [0.2704918 , 0.01923077],\n",
              "       [0.2704918 , 0.26923077],\n",
              "       [0.27868852, 1.        ],\n",
              "       [0.27868852, 0.55769231],\n",
              "       [0.28688525, 0.80769231],\n",
              "       [0.28688525, 0.80769231],\n",
              "       [0.31967213, 0.78846154],\n",
              "       [0.31967213, 0.15384615],\n",
              "       [0.31967213, 0.51923077],\n",
              "       [0.31967213, 0.42307692],\n",
              "       [0.31967213, 0.09615385],\n",
              "       [0.31967213, 0.59615385],\n",
              "       [0.31967213, 0.75      ],\n",
              "       [0.31967213, 0.38461538],\n",
              "       [0.31967213, 0.94230769],\n",
              "       [0.31967213, 0.53846154],\n",
              "       [0.31967213, 0.05769231],\n",
              "       [0.31967213, 0.57692308],\n",
              "       [0.3442623 , 0.71153846],\n",
              "       [0.3442623 , 0.07692308],\n",
              "       [0.35245902, 0.30769231],\n",
              "       [0.35245902, 0.61538462],\n",
              "       [0.36065574, 0.96153846],\n",
              "       [0.36065574, 0.        ],\n",
              "       [0.36885246, 0.57692308],\n",
              "       [0.36885246, 0.42307692],\n",
              "       [0.36885246, 0.26923077],\n",
              "       [0.36885246, 0.11538462],\n",
              "       [0.36885246, 0.55769231],\n",
              "       [0.36885246, 0.17307692],\n",
              "       [0.37704918, 0.57692308],\n",
              "       [0.37704918, 0.03846154],\n",
              "       [0.3852459 , 0.09615385],\n",
              "       [0.3852459 , 0.59615385],\n",
              "       [0.3852459 , 0.94230769],\n",
              "       [0.3852459 , 0.15384615],\n",
              "       [0.3852459 , 0.59615385],\n",
              "       [0.3852459 , 0.05769231],\n",
              "       [0.39344262, 0.92307692],\n",
              "       [0.39344262, 0.69230769],\n",
              "       [0.39344262, 0.96153846],\n",
              "       [0.39344262, 0.92307692],\n",
              "       [0.39344262, 0.90384615],\n",
              "       [0.39344262, 0.01923077],\n",
              "       [0.40163934, 0.38461538],\n",
              "       [0.40163934, 0.01923077],\n",
              "       [0.40983607, 0.        ],\n",
              "       [0.40983607, 0.01923077],\n",
              "       [0.40983607, 0.86538462],\n",
              "       [0.40983607, 0.59615385],\n",
              "       [0.42622951, 0.63461538],\n",
              "       [0.42622951, 0.61538462],\n",
              "       [0.42622951, 0.17307692],\n",
              "       [0.42622951, 0.38461538],\n",
              "       [0.44262295, 0.42307692],\n",
              "       [0.44262295, 0.40384615],\n",
              "       [0.45081967, 0.09615385],\n",
              "       [0.45081967, 0.25      ],\n",
              "       [0.45901639, 0.48076923],\n",
              "       [0.45901639, 0.42307692],\n",
              "       [0.45901639, 0.78846154],\n",
              "       [0.45901639, 0.38461538],\n",
              "       [0.45901639, 0.55769231],\n",
              "       [0.45901639, 0.40384615],\n",
              "       [0.46721311, 0.13461538],\n",
              "       [0.46721311, 0.25      ],\n",
              "       [0.47540984, 0.03846154],\n",
              "       [0.47540984, 0.21153846],\n",
              "       [0.47540984, 0.5       ],\n",
              "       [0.47540984, 0.26923077],\n",
              "       [0.48360656, 0.01923077],\n",
              "       [0.48360656, 0.32692308],\n",
              "       [0.49180328, 0.75      ],\n",
              "       [0.49180328, 0.26923077],\n",
              "       [0.5       , 0.19230769],\n",
              "       [0.5       , 0.26923077],\n",
              "       [0.50819672, 0.13461538],\n",
              "       [0.50819672, 0.19230769],\n",
              "       [0.50819672, 0.57692308],\n",
              "       [0.50819672, 0.26923077],\n",
              "       [0.51639344, 0.30769231],\n",
              "       [0.51639344, 0.30769231],\n",
              "       [0.51639344, 0.48076923],\n",
              "       [0.51639344, 0.40384615],\n",
              "       [0.51639344, 0.5       ],\n",
              "       [0.51639344, 0.38461538],\n",
              "       [0.51639344, 0.55769231],\n",
              "       [0.51639344, 0.17307692],\n",
              "       [0.51639344, 0.36538462],\n",
              "       [0.51639344, 0.23076923],\n",
              "       [0.51639344, 0.30769231],\n",
              "       [0.51639344, 0.23076923],\n",
              "       [0.52459016, 0.73076923],\n",
              "       [0.52459016, 0.21153846],\n",
              "       [0.54098361, 0.01923077],\n",
              "       [0.54098361, 0.25      ],\n",
              "       [0.57377049, 0.61538462],\n",
              "       [0.57377049, 0.34615385],\n",
              "       [0.58196721, 0.46153846],\n",
              "       [0.58196721, 0.28846154],\n",
              "       [0.59016393, 0.34615385],\n",
              "       [0.59016393, 0.26923077],\n",
              "       [0.59016393, 0.42307692],\n",
              "       [0.59016393, 0.19230769],\n",
              "       [0.59016393, 0.34615385],\n",
              "       [0.59016393, 0.34615385],\n",
              "       [0.59836066, 0.65384615],\n",
              "       [0.59836066, 0.23076923],\n",
              "       [0.59836066, 0.76923077],\n",
              "       [0.59836066, 0.17307692],\n",
              "       [0.63934426, 0.78846154],\n",
              "       [0.63934426, 0.32692308],\n",
              "       [0.67213115, 0.36538462],\n",
              "       [0.67213115, 0.26923077],\n",
              "       [0.68032787, 0.53846154],\n",
              "       [0.68032787, 0.21153846],\n",
              "       [0.68852459, 0.44230769],\n",
              "       [0.68852459, 0.23076923],\n",
              "       [0.70491803, 0.69230769],\n",
              "       [0.70491803, 0.19230769],\n",
              "       [0.72131148, 0.44230769],\n",
              "       [0.72131148, 0.34615385],\n",
              "       [0.72131148, 0.30769231],\n",
              "       [0.72131148, 0.26923077],\n",
              "       [0.80327869, 0.28846154],\n",
              "       [0.80327869, 0.38461538],\n",
              "       [0.86065574, 0.55769231],\n",
              "       [0.86065574, 0.32692308],\n",
              "       [0.90983607, 0.51923077],\n",
              "       [0.90983607, 0.26923077],\n",
              "       [1.        , 0.26923077],\n",
              "       [1.        , 0.23076923]])"
            ]
          },
          "metadata": {},
          "execution_count": 117
        }
      ]
    },
    {
      "cell_type": "markdown",
      "source": [
        "# CLUSTERING ALGORITHM"
      ],
      "metadata": {
        "id": "QTjbT3JcHEbh"
      }
    },
    {
      "cell_type": "code",
      "source": [
        "x = data.iloc[:, [3, 4]].values "
      ],
      "metadata": {
        "id": "5_C1Mko5HL--"
      },
      "execution_count": 118,
      "outputs": []
    },
    {
      "cell_type": "code",
      "source": [
        "from sklearn.cluster import KMeans  \n",
        "wcss_list= []  #Initializing the list for the values of WCSS  \n",
        "  \n",
        "#Using for loop for iterations from 1 to 10.  \n",
        "for i in range(1, 11):  \n",
        "    kmeans = KMeans(n_clusters=i, init='k-means++', random_state= 40)  \n",
        "    kmeans.fit(x)  \n",
        "    wcss_list.append(kmeans.inertia_)  \n",
        "plt.plot(range(1, 11), wcss_list)  \n",
        "plt.title('The Elobw Method Graph')  \n",
        "plt.xlabel('Number of clusters(k)')  \n",
        "plt.ylabel('wcss_list')  \n",
        "plt.show()  "
      ],
      "metadata": {
        "colab": {
          "base_uri": "https://localhost:8080/",
          "height": 295
        },
        "id": "VJYMU4IBIACp",
        "outputId": "743f6617-dff5-4691-c53a-75db58c2b031"
      },
      "execution_count": 122,
      "outputs": [
        {
          "output_type": "display_data",
          "data": {
            "text/plain": [
              "<Figure size 432x288 with 1 Axes>"
            ],
            "image/png": "[encoded data removed]"
          },
          "metadata": {
            "needs_background": "light"
          }
        }
      ]
    },
    {
      "cell_type": "markdown",
      "source": [
        "# ADD THE CLUSTER DATA WITH PRIMARY DATA"
      ],
      "metadata": {
        "id": "9v0YAhYsKBHn"
      }
    },
    {
      "cell_type": "code",
      "source": [
        "kmeans = KMeans(n_clusters=5, init='k-means++', random_state= 42)  \n",
        "y_predict= kmeans.fit_predict(x) \n",
        "m=pd.Series(y_predict)\n",
        "data[\"Cluster\"]=m\n",
        "data"
      ],
      "metadata": {
        "colab": {
          "base_uri": "https://localhost:8080/",
          "height": 423
        },
        "id": "XECAlYUJIHQ_",
        "outputId": "32154daa-7952-43ac-b9df-ab8727d0e9b0"
      },
      "execution_count": 125,
      "outputs": [
        {
          "output_type": "execute_result",
          "data": {
            "text/plain": [
              "     CustomerID  Gender  Age  Annual Income (k$)  Spending Score (1-100)  \\\n",
              "0             1       1   19                  15                      39   \n",
              "1             2       1   21                  15                      81   \n",
              "2             3       0   20                  16                       6   \n",
              "3             4       0   23                  16                      77   \n",
              "4             5       0   31                  17                      40   \n",
              "..          ...     ...  ...                 ...                     ...   \n",
              "195         196       0   35                 120                      79   \n",
              "196         197       0   45                 126                      28   \n",
              "197         198       1   32                 126                      74   \n",
              "198         199       1   32                 137                      18   \n",
              "199         200       1   30                 137                      83   \n",
              "\n",
              "     Cluster  \n",
              "0          2  \n",
              "1          3  \n",
              "2          2  \n",
              "3          3  \n",
              "4          2  \n",
              "..       ...  \n",
              "195        4  \n",
              "196        1  \n",
              "197        4  \n",
              "198        1  \n",
              "199        4  \n",
              "\n",
              "[200 rows x 6 columns]"
            ],
            "text/html": [
              "\n",
              "  <div id=\"df-f1e01343-a814-4da5-af7e-fb72641104e1\">\n",
              "    <div class=\"colab-df-container\">\n",
              "      <div>\n",
              "<style scoped>\n",
              "    .dataframe tbody tr th:only-of-type {\n",
              "        vertical-align: middle;\n",
              "    }\n",
              "\n",
              "    .dataframe tbody tr th {\n",
              "        vertical-align: top;\n",
              "    }\n",
              "\n",
              "    .dataframe thead th {\n",
              "        text-align: right;\n",
              "    }\n",
              "</style>\n",
              "<table border=\"1\" class=\"dataframe\">\n",
              "  <thead>\n",
              "    <tr style=\"text-align: right;\">\n",
              "      <th></th>\n",
              "      <th>CustomerID</th>\n",
              "      <th>Gender</th>\n",
              "      <th>Age</th>\n",
              "      <th>Annual Income (k$)</th>\n",
              "      <th>Spending Score (1-100)</th>\n",
              "      <th>Cluster</th>\n",
              "    </tr>\n",
              "  </thead>\n",
              "  <tbody>\n",
              "    <tr>\n",
              "      <th>0</th>\n",
              "      <td>1</td>\n",
              "      <td>1</td>\n",
              "      <td>19</td>\n",
              "      <td>15</td>\n",
              "      <td>39</td>\n",
              "      <td>2</td>\n",
              "    </tr>\n",
              "    <tr>\n",
              "      <th>1</th>\n",
              "      <td>2</td>\n",
              "      <td>1</td>\n",
              "      <td>21</td>\n",
              "      <td>15</td>\n",
              "      <td>81</td>\n",
              "      <td>3</td>\n",
              "    </tr>\n",
              "    <tr>\n",
              "      <th>2</th>\n",
              "      <td>3</td>\n",
              "      <td>0</td>\n",
              "      <td>20</td>\n",
              "      <td>16</td>\n",
              "      <td>6</td>\n",
              "      <td>2</td>\n",
              "    </tr>\n",
              "    <tr>\n",
              "      <th>3</th>\n",
              "      <td>4</td>\n",
              "      <td>0</td>\n",
              "      <td>23</td>\n",
              "      <td>16</td>\n",
              "      <td>77</td>\n",
              "      <td>3</td>\n",
              "    </tr>\n",
              "    <tr>\n",
              "      <th>4</th>\n",
              "      <td>5</td>\n",
              "      <td>0</td>\n",
              "      <td>31</td>\n",
              "      <td>17</td>\n",
              "      <td>40</td>\n",
              "      <td>2</td>\n",
              "    </tr>\n",
              "    <tr>\n",
              "      <th>...</th>\n",
              "      <td>...</td>\n",
              "      <td>...</td>\n",
              "      <td>...</td>\n",
              "      <td>...</td>\n",
              "      <td>...</td>\n",
              "      <td>...</td>\n",
              "    </tr>\n",
              "    <tr>\n",
              "      <th>195</th>\n",
              "      <td>196</td>\n",
              "      <td>0</td>\n",
              "      <td>35</td>\n",
              "      <td>120</td>\n",
              "      <td>79</td>\n",
              "      <td>4</td>\n",
              "    </tr>\n",
              "    <tr>\n",
              "      <th>196</th>\n",
              "      <td>197</td>\n",
              "      <td>0</td>\n",
              "      <td>45</td>\n",
              "      <td>126</td>\n",
              "      <td>28</td>\n",
              "      <td>1</td>\n",
              "    </tr>\n",
              "    <tr>\n",
              "      <th>197</th>\n",
              "      <td>198</td>\n",
              "      <td>1</td>\n",
              "      <td>32</td>\n",
              "      <td>126</td>\n",
              "      <td>74</td>\n",
              "      <td>4</td>\n",
              "    </tr>\n",
              "    <tr>\n",
              "      <th>198</th>\n",
              "      <td>199</td>\n",
              "      <td>1</td>\n",
              "      <td>32</td>\n",
              "      <td>137</td>\n",
              "      <td>18</td>\n",
              "      <td>1</td>\n",
              "    </tr>\n",
              "    <tr>\n",
              "      <th>199</th>\n",
              "      <td>200</td>\n",
              "      <td>1</td>\n",
              "      <td>30</td>\n",
              "      <td>137</td>\n",
              "      <td>83</td>\n",
              "      <td>4</td>\n",
              "    </tr>\n",
              "  </tbody>\n",
              "</table>\n",
              "<p>200 rows × 6 columns</p>\n",
              "</div>\n",
              "      <button class=\"colab-df-convert\" onclick=\"convertToInteractive('df-f1e01343-a814-4da5-af7e-fb72641104e1')\"\n",
              "              title=\"Convert this dataframe to an interactive table.\"\n",
              "              style=\"display:none;\">\n",
              "        \n",
              "  <svg xmlns=\"http://www.w3.org/2000/svg\" height=\"24px\"viewBox=\"0 0 24 24\"\n",
              "       width=\"24px\">\n",
              "    <path d=\"M0 0h24v24H0V0z\" fill=\"none\"/>\n",
              "    <path d=\"M18.56 5.44l.94 2.06.94-2.06 2.06-.94-2.06-.94-.94-2.06-.94 2.06-2.06.94zm-11 1L8.5 8.5l.94-2.06 2.06-.94-2.06-.94L8.5 2.5l-.94 2.06-2.06.94zm10 10l.94 2.06.94-2.06 2.06-.94-2.06-.94-.94-2.06-.94 2.06-2.06.94z\"/><path d=\"M17.41 7.96l-1.37-1.37c-.4-.4-.92-.59-1.43-.59-.52 0-1.04.2-1.43.59L10.3 9.45l-7.72 7.72c-.78.78-.78 2.05 0 2.83L4 21.41c.39.39.9.59 1.41.59.51 0 1.02-.2 1.41-.59l7.78-7.78 2.81-2.81c.8-.78.8-2.07 0-2.86zM5.41 20L4 18.59l7.72-7.72 1.47 1.35L5.41 20z\"/>\n",
              "  </svg>\n",
              "      </button>\n",
              "      \n",
              "  <style>\n",
              "    .colab-df-container {\n",
              "      display:flex;\n",
              "      flex-wrap:wrap;\n",
              "      gap: 12px;\n",
              "    }\n",
              "\n",
              "    .colab-df-convert {\n",
              "      background-color: #E8F0FE;\n",
              "      border: none;\n",
              "      border-radius: 50%;\n",
              "      cursor: pointer;\n",
              "      display: none;\n",
              "      fill: #1967D2;\n",
              "      height: 32px;\n",
              "      padding: 0 0 0 0;\n",
              "      width: 32px;\n",
              "    }\n",
              "\n",
              "    .colab-df-convert:hover {\n",
              "      background-color: #E2EBFA;\n",
              "      box-shadow: 0px 1px 2px rgba(60, 64, 67, 0.3), 0px 1px 3px 1px rgba(60, 64, 67, 0.15);\n",
              "      fill: #174EA6;\n",
              "    }\n",
              "\n",
              "    [theme=dark] .colab-df-convert {\n",
              "      background-color: #3B4455;\n",
              "      fill: #D2E3FC;\n",
              "    }\n",
              "\n",
              "    [theme=dark] .colab-df-convert:hover {\n",
              "      background-color: #434B5C;\n",
              "      box-shadow: 0px 1px 3px 1px rgba(0, 0, 0, 0.15);\n",
              "      filter: drop-shadow(0px 1px 2px rgba(0, 0, 0, 0.3));\n",
              "      fill: #FFFFFF;\n",
              "    }\n",
              "  </style>\n",
              "\n",
              "      <script>\n",
              "        const buttonEl =\n",
              "          document.querySelector('#df-f1e01343-a814-4da5-af7e-fb72641104e1 button.colab-df-convert');\n",
              "        buttonEl.style.display =\n",
              "          google.colab.kernel.accessAllowed ? 'block' : 'none';\n",
              "\n",
              "        async function convertToInteractive(key) {\n",
              "          const element = document.querySelector('#df-f1e01343-a814-4da5-af7e-fb72641104e1');\n",
              "          const dataTable =\n",
              "            await google.colab.kernel.invokeFunction('convertToInteractive',\n",
              "                                                     [key], {});\n",
              "          if (!dataTable) return;\n",
              "\n",
              "          const docLinkHtml = 'Like what you see? Visit the ' +\n",
              "            '<a target=\"_blank\" href=https://colab.research.google.com/notebooks/data_table.ipynb>data table notebook</a>'\n",
              "            + ' to learn more about interactive tables.';\n",
              "          element.innerHTML = '';\n",
              "          dataTable['output_type'] = 'display_data';\n",
              "          await google.colab.output.renderOutput(dataTable, element);\n",
              "          const docLink = document.createElement('div');\n",
              "          docLink.innerHTML = docLinkHtml;\n",
              "          element.appendChild(docLink);\n",
              "        }\n",
              "      </script>\n",
              "    </div>\n",
              "  </div>\n",
              "  "
            ]
          },
          "metadata": {},
          "execution_count": 125
        }
      ]
    },
    {
      "cell_type": "code",
      "source": [
        "data.head()"
      ],
      "metadata": {
        "colab": {
          "base_uri": "https://localhost:8080/",
          "height": 206
        },
        "id": "IQhIFkjRImsZ",
        "outputId": "fe5ca121-a6d1-463a-a4ed-edcd09f3118f"
      },
      "execution_count": 127,
      "outputs": [
        {
          "output_type": "execute_result",
          "data": {
            "text/plain": [
              "   CustomerID  Gender  Age  Annual Income (k$)  Spending Score (1-100)  \\\n",
              "0           1       1   19                  15                      39   \n",
              "1           2       1   21                  15                      81   \n",
              "2           3       0   20                  16                       6   \n",
              "3           4       0   23                  16                      77   \n",
              "4           5       0   31                  17                      40   \n",
              "\n",
              "   Cluster  \n",
              "0        2  \n",
              "1        3  \n",
              "2        2  \n",
              "3        3  \n",
              "4        2  "
            ],
            "text/html": [
              "\n",
              "  <div id=\"df-90a7fe5b-c88a-4f27-b61c-a300a787d265\">\n",
              "    <div class=\"colab-df-container\">\n",
              "      <div>\n",
              "<style scoped>\n",
              "    .dataframe tbody tr th:only-of-type {\n",
              "        vertical-align: middle;\n",
              "    }\n",
              "\n",
              "    .dataframe tbody tr th {\n",
              "        vertical-align: top;\n",
              "    }\n",
              "\n",
              "    .dataframe thead th {\n",
              "        text-align: right;\n",
              "    }\n",
              "</style>\n",
              "<table border=\"1\" class=\"dataframe\">\n",
              "  <thead>\n",
              "    <tr style=\"text-align: right;\">\n",
              "      <th></th>\n",
              "      <th>CustomerID</th>\n",
              "      <th>Gender</th>\n",
              "      <th>Age</th>\n",
              "      <th>Annual Income (k$)</th>\n",
              "      <th>Spending Score (1-100)</th>\n",
              "      <th>Cluster</th>\n",
              "    </tr>\n",
              "  </thead>\n",
              "  <tbody>\n",
              "    <tr>\n",
              "      <th>0</th>\n",
              "      <td>1</td>\n",
              "      <td>1</td>\n",
              "      <td>19</td>\n",
              "      <td>15</td>\n",
              "      <td>39</td>\n",
              "      <td>2</td>\n",
              "    </tr>\n",
              "    <tr>\n",
              "      <th>1</th>\n",
              "      <td>2</td>\n",
              "      <td>1</td>\n",
              "      <td>21</td>\n",
              "      <td>15</td>\n",
              "      <td>81</td>\n",
              "      <td>3</td>\n",
              "    </tr>\n",
              "    <tr>\n",
              "      <th>2</th>\n",
              "      <td>3</td>\n",
              "      <td>0</td>\n",
              "      <td>20</td>\n",
              "      <td>16</td>\n",
              "      <td>6</td>\n",
              "      <td>2</td>\n",
              "    </tr>\n",
              "    <tr>\n",
              "      <th>3</th>\n",
              "      <td>4</td>\n",
              "      <td>0</td>\n",
              "      <td>23</td>\n",
              "      <td>16</td>\n",
              "      <td>77</td>\n",
              "      <td>3</td>\n",
              "    </tr>\n",
              "    <tr>\n",
              "      <th>4</th>\n",
              "      <td>5</td>\n",
              "      <td>0</td>\n",
              "      <td>31</td>\n",
              "      <td>17</td>\n",
              "      <td>40</td>\n",
              "      <td>2</td>\n",
              "    </tr>\n",
              "  </tbody>\n",
              "</table>\n",
              "</div>\n",
              "      <button class=\"colab-df-convert\" onclick=\"convertToInteractive('df-90a7fe5b-c88a-4f27-b61c-a300a787d265')\"\n",
              "              title=\"Convert this dataframe to an interactive table.\"\n",
              "              style=\"display:none;\">\n",
              "        \n",
              "  <svg xmlns=\"http://www.w3.org/2000/svg\" height=\"24px\"viewBox=\"0 0 24 24\"\n",
              "       width=\"24px\">\n",
              "    <path d=\"M0 0h24v24H0V0z\" fill=\"none\"/>\n",
              "    <path d=\"M18.56 5.44l.94 2.06.94-2.06 2.06-.94-2.06-.94-.94-2.06-.94 2.06-2.06.94zm-11 1L8.5 8.5l.94-2.06 2.06-.94-2.06-.94L8.5 2.5l-.94 2.06-2.06.94zm10 10l.94 2.06.94-2.06 2.06-.94-2.06-.94-.94-2.06-.94 2.06-2.06.94z\"/><path d=\"M17.41 7.96l-1.37-1.37c-.4-.4-.92-.59-1.43-.59-.52 0-1.04.2-1.43.59L10.3 9.45l-7.72 7.72c-.78.78-.78 2.05 0 2.83L4 21.41c.39.39.9.59 1.41.59.51 0 1.02-.2 1.41-.59l7.78-7.78 2.81-2.81c.8-.78.8-2.07 0-2.86zM5.41 20L4 18.59l7.72-7.72 1.47 1.35L5.41 20z\"/>\n",
              "  </svg>\n",
              "      </button>\n",
              "      \n",
              "  <style>\n",
              "    .colab-df-container {\n",
              "      display:flex;\n",
              "      flex-wrap:wrap;\n",
              "      gap: 12px;\n",
              "    }\n",
              "\n",
              "    .colab-df-convert {\n",
              "      background-color: #E8F0FE;\n",
              "      border: none;\n",
              "      border-radius: 50%;\n",
              "      cursor: pointer;\n",
              "      display: none;\n",
              "      fill: #1967D2;\n",
              "      height: 32px;\n",
              "      padding: 0 0 0 0;\n",
              "      width: 32px;\n",
              "    }\n",
              "\n",
              "    .colab-df-convert:hover {\n",
              "      background-color: #E2EBFA;\n",
              "      box-shadow: 0px 1px 2px rgba(60, 64, 67, 0.3), 0px 1px 3px 1px rgba(60, 64, 67, 0.15);\n",
              "      fill: #174EA6;\n",
              "    }\n",
              "\n",
              "    [theme=dark] .colab-df-convert {\n",
              "      background-color: #3B4455;\n",
              "      fill: #D2E3FC;\n",
              "    }\n",
              "\n",
              "    [theme=dark] .colab-df-convert:hover {\n",
              "      background-color: #434B5C;\n",
              "      box-shadow: 0px 1px 3px 1px rgba(0, 0, 0, 0.15);\n",
              "      filter: drop-shadow(0px 1px 2px rgba(0, 0, 0, 0.3));\n",
              "      fill: #FFFFFF;\n",
              "    }\n",
              "  </style>\n",
              "\n",
              "      <script>\n",
              "        const buttonEl =\n",
              "          document.querySelector('#df-90a7fe5b-c88a-4f27-b61c-a300a787d265 button.colab-df-convert');\n",
              "        buttonEl.style.display =\n",
              "          google.colab.kernel.accessAllowed ? 'block' : 'none';\n",
              "\n",
              "        async function convertToInteractive(key) {\n",
              "          const element = document.querySelector('#df-90a7fe5b-c88a-4f27-b61c-a300a787d265');\n",
              "          const dataTable =\n",
              "            await google.colab.kernel.invokeFunction('convertToInteractive',\n",
              "                                                     [key], {});\n",
              "          if (!dataTable) return;\n",
              "\n",
              "          const docLinkHtml = 'Like what you see? Visit the ' +\n",
              "            '<a target=\"_blank\" href=https://colab.research.google.com/notebooks/data_table.ipynb>data table notebook</a>'\n",
              "            + ' to learn more about interactive tables.';\n",
              "          element.innerHTML = '';\n",
              "          dataTable['output_type'] = 'display_data';\n",
              "          await google.colab.output.renderOutput(dataTable, element);\n",
              "          const docLink = document.createElement('div');\n",
              "          docLink.innerHTML = docLinkHtml;\n",
              "          element.appendChild(docLink);\n",
              "        }\n",
              "      </script>\n",
              "    </div>\n",
              "  </div>\n",
              "  "
            ]
          },
          "metadata": {},
          "execution_count": 127
        }
      ]
    },
    {
      "cell_type": "markdown",
      "source": [
        "# SPLIT THE DATA INTO DEPENDENT AND INDEPENDENT VARIABLES"
      ],
      "metadata": {
        "id": "pmYRG14ZSDGm"
      }
    },
    {
      "cell_type": "code",
      "source": [
        "x=data.iloc[:,0:3]\n",
        "x.head()"
      ],
      "metadata": {
        "colab": {
          "base_uri": "https://localhost:8080/",
          "height": 206
        },
        "id": "zeRNZDe2SMIH",
        "outputId": "948160b5-34ed-42b8-aa00-a3541ece1428"
      },
      "execution_count": 152,
      "outputs": [
        {
          "output_type": "execute_result",
          "data": {
            "text/plain": [
              "   CustomerID  Gender  Age\n",
              "0           1       1   19\n",
              "1           2       1   21\n",
              "2           3       0   20\n",
              "3           4       0   23\n",
              "4           5       0   31"
            ],
            "text/html": [
              "\n",
              "  <div id=\"df-37912ae6-1bea-493b-a28f-1b344330b5c4\">\n",
              "    <div class=\"colab-df-container\">\n",
              "      <div>\n",
              "<style scoped>\n",
              "    .dataframe tbody tr th:only-of-type {\n",
              "        vertical-align: middle;\n",
              "    }\n",
              "\n",
              "    .dataframe tbody tr th {\n",
              "        vertical-align: top;\n",
              "    }\n",
              "\n",
              "    .dataframe thead th {\n",
              "        text-align: right;\n",
              "    }\n",
              "</style>\n",
              "<table border=\"1\" class=\"dataframe\">\n",
              "  <thead>\n",
              "    <tr style=\"text-align: right;\">\n",
              "      <th></th>\n",
              "      <th>CustomerID</th>\n",
              "      <th>Gender</th>\n",
              "      <th>Age</th>\n",
              "    </tr>\n",
              "  </thead>\n",
              "  <tbody>\n",
              "    <tr>\n",
              "      <th>0</th>\n",
              "      <td>1</td>\n",
              "      <td>1</td>\n",
              "      <td>19</td>\n",
              "    </tr>\n",
              "    <tr>\n",
              "      <th>1</th>\n",
              "      <td>2</td>\n",
              "      <td>1</td>\n",
              "      <td>21</td>\n",
              "    </tr>\n",
              "    <tr>\n",
              "      <th>2</th>\n",
              "      <td>3</td>\n",
              "      <td>0</td>\n",
              "      <td>20</td>\n",
              "    </tr>\n",
              "    <tr>\n",
              "      <th>3</th>\n",
              "      <td>4</td>\n",
              "      <td>0</td>\n",
              "      <td>23</td>\n",
              "    </tr>\n",
              "    <tr>\n",
              "      <th>4</th>\n",
              "      <td>5</td>\n",
              "      <td>0</td>\n",
              "      <td>31</td>\n",
              "    </tr>\n",
              "  </tbody>\n",
              "</table>\n",
              "</div>\n",
              "      <button class=\"colab-df-convert\" onclick=\"convertToInteractive('df-37912ae6-1bea-493b-a28f-1b344330b5c4')\"\n",
              "              title=\"Convert this dataframe to an interactive table.\"\n",
              "              style=\"display:none;\">\n",
              "        \n",
              "  <svg xmlns=\"http://www.w3.org/2000/svg\" height=\"24px\"viewBox=\"0 0 24 24\"\n",
              "       width=\"24px\">\n",
              "    <path d=\"M0 0h24v24H0V0z\" fill=\"none\"/>\n",
              "    <path d=\"M18.56 5.44l.94 2.06.94-2.06 2.06-.94-2.06-.94-.94-2.06-.94 2.06-2.06.94zm-11 1L8.5 8.5l.94-2.06 2.06-.94-2.06-.94L8.5 2.5l-.94 2.06-2.06.94zm10 10l.94 2.06.94-2.06 2.06-.94-2.06-.94-.94-2.06-.94 2.06-2.06.94z\"/><path d=\"M17.41 7.96l-1.37-1.37c-.4-.4-.92-.59-1.43-.59-.52 0-1.04.2-1.43.59L10.3 9.45l-7.72 7.72c-.78.78-.78 2.05 0 2.83L4 21.41c.39.39.9.59 1.41.59.51 0 1.02-.2 1.41-.59l7.78-7.78 2.81-2.81c.8-.78.8-2.07 0-2.86zM5.41 20L4 18.59l7.72-7.72 1.47 1.35L5.41 20z\"/>\n",
              "  </svg>\n",
              "      </button>\n",
              "      \n",
              "  <style>\n",
              "    .colab-df-container {\n",
              "      display:flex;\n",
              "      flex-wrap:wrap;\n",
              "      gap: 12px;\n",
              "    }\n",
              "\n",
              "    .colab-df-convert {\n",
              "      background-color: #E8F0FE;\n",
              "      border: none;\n",
              "      border-radius: 50%;\n",
              "      cursor: pointer;\n",
              "      display: none;\n",
              "      fill: #1967D2;\n",
              "      height: 32px;\n",
              "      padding: 0 0 0 0;\n",
              "      width: 32px;\n",
              "    }\n",
              "\n",
              "    .colab-df-convert:hover {\n",
              "      background-color: #E2EBFA;\n",
              "      box-shadow: 0px 1px 2px rgba(60, 64, 67, 0.3), 0px 1px 3px 1px rgba(60, 64, 67, 0.15);\n",
              "      fill: #174EA6;\n",
              "    }\n",
              "\n",
              "    [theme=dark] .colab-df-convert {\n",
              "      background-color: #3B4455;\n",
              "      fill: #D2E3FC;\n",
              "    }\n",
              "\n",
              "    [theme=dark] .colab-df-convert:hover {\n",
              "      background-color: #434B5C;\n",
              "      box-shadow: 0px 1px 3px 1px rgba(0, 0, 0, 0.15);\n",
              "      filter: drop-shadow(0px 1px 2px rgba(0, 0, 0, 0.3));\n",
              "      fill: #FFFFFF;\n",
              "    }\n",
              "  </style>\n",
              "\n",
              "      <script>\n",
              "        const buttonEl =\n",
              "          document.querySelector('#df-37912ae6-1bea-493b-a28f-1b344330b5c4 button.colab-df-convert');\n",
              "        buttonEl.style.display =\n",
              "          google.colab.kernel.accessAllowed ? 'block' : 'none';\n",
              "\n",
              "        async function convertToInteractive(key) {\n",
              "          const element = document.querySelector('#df-37912ae6-1bea-493b-a28f-1b344330b5c4');\n",
              "          const dataTable =\n",
              "            await google.colab.kernel.invokeFunction('convertToInteractive',\n",
              "                                                     [key], {});\n",
              "          if (!dataTable) return;\n",
              "\n",
              "          const docLinkHtml = 'Like what you see? Visit the ' +\n",
              "            '<a target=\"_blank\" href=https://colab.research.google.com/notebooks/data_table.ipynb>data table notebook</a>'\n",
              "            + ' to learn more about interactive tables.';\n",
              "          element.innerHTML = '';\n",
              "          dataTable['output_type'] = 'display_data';\n",
              "          await google.colab.output.renderOutput(dataTable, element);\n",
              "          const docLink = document.createElement('div');\n",
              "          docLink.innerHTML = docLinkHtml;\n",
              "          element.appendChild(docLink);\n",
              "        }\n",
              "      </script>\n",
              "    </div>\n",
              "  </div>\n",
              "  "
            ]
          },
          "metadata": {},
          "execution_count": 152
        }
      ]
    },
    {
      "cell_type": "code",
      "source": [
        "y = data.iloc[:14, 3].values\n",
        "y"
      ],
      "metadata": {
        "colab": {
          "base_uri": "https://localhost:8080/"
        },
        "id": "f5VIDgcJScra",
        "outputId": "64d0d394-cccc-4a3e-a0e2-3a10ee8bd331"
      },
      "execution_count": 153,
      "outputs": [
        {
          "output_type": "execute_result",
          "data": {
            "text/plain": [
              "array([15, 15, 16, 16, 17, 17, 18, 18, 19, 19, 19, 19, 20, 20])"
            ]
          },
          "metadata": {},
          "execution_count": 153
        }
      ]
    },
    {
      "cell_type": "markdown",
      "source": [
        "# SPLIT THE DATA INTO TRAINING AND TESTING"
      ],
      "metadata": {
        "id": "16f3wrAVKQC9"
      }
    },
    {
      "cell_type": "code",
      "source": [
        "from sklearn.model_selection import train_test_split"
      ],
      "metadata": {
        "id": "mJGCCcMcKeRT"
      },
      "execution_count": 128,
      "outputs": []
    },
    {
      "cell_type": "code",
      "source": [
        "y = data[\"Age\"]\n",
        "x = data.drop(columns = [\"Age\"])"
      ],
      "metadata": {
        "id": "kcvlbJ36KimI"
      },
      "execution_count": 129,
      "outputs": []
    },
    {
      "cell_type": "code",
      "source": [
        "x_train,x_test,y_train,y_test = train_test_split(x,y,test_size=0.2,random_state=0)"
      ],
      "metadata": {
        "id": "VIUtzKHDKoTW"
      },
      "execution_count": 130,
      "outputs": []
    },
    {
      "cell_type": "code",
      "source": [
        "x_train.head()"
      ],
      "metadata": {
        "colab": {
          "base_uri": "https://localhost:8080/",
          "height": 206
        },
        "id": "LUfyHZ7pKrpB",
        "outputId": "fc2d318f-b4bb-4aa5-d68f-efc6bf1e588f"
      },
      "execution_count": 131,
      "outputs": [
        {
          "output_type": "execute_result",
          "data": {
            "text/plain": [
              "     CustomerID  Gender  Annual Income (k$)  Spending Score (1-100)  Cluster\n",
              "134         135       1                  73                       5        1\n",
              "66           67       0                  48                      50        0\n",
              "26           27       0                  28                      32        2\n",
              "113         114       1                  64                      46        0\n",
              "168         169       0                  87                      27        1"
            ],
            "text/html": [
              "\n",
              "  <div id=\"df-375c7380-e10f-4889-84b4-f1c5fec2e942\">\n",
              "    <div class=\"colab-df-container\">\n",
              "      <div>\n",
              "<style scoped>\n",
              "    .dataframe tbody tr th:only-of-type {\n",
              "        vertical-align: middle;\n",
              "    }\n",
              "\n",
              "    .dataframe tbody tr th {\n",
              "        vertical-align: top;\n",
              "    }\n",
              "\n",
              "    .dataframe thead th {\n",
              "        text-align: right;\n",
              "    }\n",
              "</style>\n",
              "<table border=\"1\" class=\"dataframe\">\n",
              "  <thead>\n",
              "    <tr style=\"text-align: right;\">\n",
              "      <th></th>\n",
              "      <th>CustomerID</th>\n",
              "      <th>Gender</th>\n",
              "      <th>Annual Income (k$)</th>\n",
              "      <th>Spending Score (1-100)</th>\n",
              "      <th>Cluster</th>\n",
              "    </tr>\n",
              "  </thead>\n",
              "  <tbody>\n",
              "    <tr>\n",
              "      <th>134</th>\n",
              "      <td>135</td>\n",
              "      <td>1</td>\n",
              "      <td>73</td>\n",
              "      <td>5</td>\n",
              "      <td>1</td>\n",
              "    </tr>\n",
              "    <tr>\n",
              "      <th>66</th>\n",
              "      <td>67</td>\n",
              "      <td>0</td>\n",
              "      <td>48</td>\n",
              "      <td>50</td>\n",
              "      <td>0</td>\n",
              "    </tr>\n",
              "    <tr>\n",
              "      <th>26</th>\n",
              "      <td>27</td>\n",
              "      <td>0</td>\n",
              "      <td>28</td>\n",
              "      <td>32</td>\n",
              "      <td>2</td>\n",
              "    </tr>\n",
              "    <tr>\n",
              "      <th>113</th>\n",
              "      <td>114</td>\n",
              "      <td>1</td>\n",
              "      <td>64</td>\n",
              "      <td>46</td>\n",
              "      <td>0</td>\n",
              "    </tr>\n",
              "    <tr>\n",
              "      <th>168</th>\n",
              "      <td>169</td>\n",
              "      <td>0</td>\n",
              "      <td>87</td>\n",
              "      <td>27</td>\n",
              "      <td>1</td>\n",
              "    </tr>\n",
              "  </tbody>\n",
              "</table>\n",
              "</div>\n",
              "      <button class=\"colab-df-convert\" onclick=\"convertToInteractive('df-375c7380-e10f-4889-84b4-f1c5fec2e942')\"\n",
              "              title=\"Convert this dataframe to an interactive table.\"\n",
              "              style=\"display:none;\">\n",
              "        \n",
              "  <svg xmlns=\"http://www.w3.org/2000/svg\" height=\"24px\"viewBox=\"0 0 24 24\"\n",
              "       width=\"24px\">\n",
              "    <path d=\"M0 0h24v24H0V0z\" fill=\"none\"/>\n",
              "    <path d=\"M18.56 5.44l.94 2.06.94-2.06 2.06-.94-2.06-.94-.94-2.06-.94 2.06-2.06.94zm-11 1L8.5 8.5l.94-2.06 2.06-.94-2.06-.94L8.5 2.5l-.94 2.06-2.06.94zm10 10l.94 2.06.94-2.06 2.06-.94-2.06-.94-.94-2.06-.94 2.06-2.06.94z\"/><path d=\"M17.41 7.96l-1.37-1.37c-.4-.4-.92-.59-1.43-.59-.52 0-1.04.2-1.43.59L10.3 9.45l-7.72 7.72c-.78.78-.78 2.05 0 2.83L4 21.41c.39.39.9.59 1.41.59.51 0 1.02-.2 1.41-.59l7.78-7.78 2.81-2.81c.8-.78.8-2.07 0-2.86zM5.41 20L4 18.59l7.72-7.72 1.47 1.35L5.41 20z\"/>\n",
              "  </svg>\n",
              "      </button>\n",
              "      \n",
              "  <style>\n",
              "    .colab-df-container {\n",
              "      display:flex;\n",
              "      flex-wrap:wrap;\n",
              "      gap: 12px;\n",
              "    }\n",
              "\n",
              "    .colab-df-convert {\n",
              "      background-color: #E8F0FE;\n",
              "      border: none;\n",
              "      border-radius: 50%;\n",
              "      cursor: pointer;\n",
              "      display: none;\n",
              "      fill: #1967D2;\n",
              "      height: 32px;\n",
              "      padding: 0 0 0 0;\n",
              "      width: 32px;\n",
              "    }\n",
              "\n",
              "    .colab-df-convert:hover {\n",
              "      background-color: #E2EBFA;\n",
              "      box-shadow: 0px 1px 2px rgba(60, 64, 67, 0.3), 0px 1px 3px 1px rgba(60, 64, 67, 0.15);\n",
              "      fill: #174EA6;\n",
              "    }\n",
              "\n",
              "    [theme=dark] .colab-df-convert {\n",
              "      background-color: #3B4455;\n",
              "      fill: #D2E3FC;\n",
              "    }\n",
              "\n",
              "    [theme=dark] .colab-df-convert:hover {\n",
              "      background-color: #434B5C;\n",
              "      box-shadow: 0px 1px 3px 1px rgba(0, 0, 0, 0.15);\n",
              "      filter: drop-shadow(0px 1px 2px rgba(0, 0, 0, 0.3));\n",
              "      fill: #FFFFFF;\n",
              "    }\n",
              "  </style>\n",
              "\n",
              "      <script>\n",
              "        const buttonEl =\n",
              "          document.querySelector('#df-375c7380-e10f-4889-84b4-f1c5fec2e942 button.colab-df-convert');\n",
              "        buttonEl.style.display =\n",
              "          google.colab.kernel.accessAllowed ? 'block' : 'none';\n",
              "\n",
              "        async function convertToInteractive(key) {\n",
              "          const element = document.querySelector('#df-375c7380-e10f-4889-84b4-f1c5fec2e942');\n",
              "          const dataTable =\n",
              "            await google.colab.kernel.invokeFunction('convertToInteractive',\n",
              "                                                     [key], {});\n",
              "          if (!dataTable) return;\n",
              "\n",
              "          const docLinkHtml = 'Like what you see? Visit the ' +\n",
              "            '<a target=\"_blank\" href=https://colab.research.google.com/notebooks/data_table.ipynb>data table notebook</a>'\n",
              "            + ' to learn more about interactive tables.';\n",
              "          element.innerHTML = '';\n",
              "          dataTable['output_type'] = 'display_data';\n",
              "          await google.colab.output.renderOutput(dataTable, element);\n",
              "          const docLink = document.createElement('div');\n",
              "          docLink.innerHTML = docLinkHtml;\n",
              "          element.appendChild(docLink);\n",
              "        }\n",
              "      </script>\n",
              "    </div>\n",
              "  </div>\n",
              "  "
            ]
          },
          "metadata": {},
          "execution_count": 131
        }
      ]
    },
    {
      "cell_type": "code",
      "source": [
        "x_test.head()"
      ],
      "metadata": {
        "colab": {
          "base_uri": "https://localhost:8080/",
          "height": 206
        },
        "id": "L-pH4MKIKu5q",
        "outputId": "997b086e-4a9a-408d-eba6-31296a78fe7c"
      },
      "execution_count": 132,
      "outputs": [
        {
          "output_type": "execute_result",
          "data": {
            "text/plain": [
              "     CustomerID  Gender  Annual Income (k$)  Spending Score (1-100)  Cluster\n",
              "18           19       1                  23                      29        2\n",
              "170         171       1                  87                      13        1\n",
              "107         108       1                  63                      46        0\n",
              "98           99       1                  61                      42        0\n",
              "177         178       1                  88                      69        4"
            ],
            "text/html": [
              "\n",
              "  <div id=\"df-1546638a-95c3-4bc9-86ce-0aeccdeaf708\">\n",
              "    <div class=\"colab-df-container\">\n",
              "      <div>\n",
              "<style scoped>\n",
              "    .dataframe tbody tr th:only-of-type {\n",
              "        vertical-align: middle;\n",
              "    }\n",
              "\n",
              "    .dataframe tbody tr th {\n",
              "        vertical-align: top;\n",
              "    }\n",
              "\n",
              "    .dataframe thead th {\n",
              "        text-align: right;\n",
              "    }\n",
              "</style>\n",
              "<table border=\"1\" class=\"dataframe\">\n",
              "  <thead>\n",
              "    <tr style=\"text-align: right;\">\n",
              "      <th></th>\n",
              "      <th>CustomerID</th>\n",
              "      <th>Gender</th>\n",
              "      <th>Annual Income (k$)</th>\n",
              "      <th>Spending Score (1-100)</th>\n",
              "      <th>Cluster</th>\n",
              "    </tr>\n",
              "  </thead>\n",
              "  <tbody>\n",
              "    <tr>\n",
              "      <th>18</th>\n",
              "      <td>19</td>\n",
              "      <td>1</td>\n",
              "      <td>23</td>\n",
              "      <td>29</td>\n",
              "      <td>2</td>\n",
              "    </tr>\n",
              "    <tr>\n",
              "      <th>170</th>\n",
              "      <td>171</td>\n",
              "      <td>1</td>\n",
              "      <td>87</td>\n",
              "      <td>13</td>\n",
              "      <td>1</td>\n",
              "    </tr>\n",
              "    <tr>\n",
              "      <th>107</th>\n",
              "      <td>108</td>\n",
              "      <td>1</td>\n",
              "      <td>63</td>\n",
              "      <td>46</td>\n",
              "      <td>0</td>\n",
              "    </tr>\n",
              "    <tr>\n",
              "      <th>98</th>\n",
              "      <td>99</td>\n",
              "      <td>1</td>\n",
              "      <td>61</td>\n",
              "      <td>42</td>\n",
              "      <td>0</td>\n",
              "    </tr>\n",
              "    <tr>\n",
              "      <th>177</th>\n",
              "      <td>178</td>\n",
              "      <td>1</td>\n",
              "      <td>88</td>\n",
              "      <td>69</td>\n",
              "      <td>4</td>\n",
              "    </tr>\n",
              "  </tbody>\n",
              "</table>\n",
              "</div>\n",
              "      <button class=\"colab-df-convert\" onclick=\"convertToInteractive('df-1546638a-95c3-4bc9-86ce-0aeccdeaf708')\"\n",
              "              title=\"Convert this dataframe to an interactive table.\"\n",
              "              style=\"display:none;\">\n",
              "        \n",
              "  <svg xmlns=\"http://www.w3.org/2000/svg\" height=\"24px\"viewBox=\"0 0 24 24\"\n",
              "       width=\"24px\">\n",
              "    <path d=\"M0 0h24v24H0V0z\" fill=\"none\"/>\n",
              "    <path d=\"M18.56 5.44l.94 2.06.94-2.06 2.06-.94-2.06-.94-.94-2.06-.94 2.06-2.06.94zm-11 1L8.5 8.5l.94-2.06 2.06-.94-2.06-.94L8.5 2.5l-.94 2.06-2.06.94zm10 10l.94 2.06.94-2.06 2.06-.94-2.06-.94-.94-2.06-.94 2.06-2.06.94z\"/><path d=\"M17.41 7.96l-1.37-1.37c-.4-.4-.92-.59-1.43-.59-.52 0-1.04.2-1.43.59L10.3 9.45l-7.72 7.72c-.78.78-.78 2.05 0 2.83L4 21.41c.39.39.9.59 1.41.59.51 0 1.02-.2 1.41-.59l7.78-7.78 2.81-2.81c.8-.78.8-2.07 0-2.86zM5.41 20L4 18.59l7.72-7.72 1.47 1.35L5.41 20z\"/>\n",
              "  </svg>\n",
              "      </button>\n",
              "      \n",
              "  <style>\n",
              "    .colab-df-container {\n",
              "      display:flex;\n",
              "      flex-wrap:wrap;\n",
              "      gap: 12px;\n",
              "    }\n",
              "\n",
              "    .colab-df-convert {\n",
              "      background-color: #E8F0FE;\n",
              "      border: none;\n",
              "      border-radius: 50%;\n",
              "      cursor: pointer;\n",
              "      display: none;\n",
              "      fill: #1967D2;\n",
              "      height: 32px;\n",
              "      padding: 0 0 0 0;\n",
              "      width: 32px;\n",
              "    }\n",
              "\n",
              "    .colab-df-convert:hover {\n",
              "      background-color: #E2EBFA;\n",
              "      box-shadow: 0px 1px 2px rgba(60, 64, 67, 0.3), 0px 1px 3px 1px rgba(60, 64, 67, 0.15);\n",
              "      fill: #174EA6;\n",
              "    }\n",
              "\n",
              "    [theme=dark] .colab-df-convert {\n",
              "      background-color: #3B4455;\n",
              "      fill: #D2E3FC;\n",
              "    }\n",
              "\n",
              "    [theme=dark] .colab-df-convert:hover {\n",
              "      background-color: #434B5C;\n",
              "      box-shadow: 0px 1px 3px 1px rgba(0, 0, 0, 0.15);\n",
              "      filter: drop-shadow(0px 1px 2px rgba(0, 0, 0, 0.3));\n",
              "      fill: #FFFFFF;\n",
              "    }\n",
              "  </style>\n",
              "\n",
              "      <script>\n",
              "        const buttonEl =\n",
              "          document.querySelector('#df-1546638a-95c3-4bc9-86ce-0aeccdeaf708 button.colab-df-convert');\n",
              "        buttonEl.style.display =\n",
              "          google.colab.kernel.accessAllowed ? 'block' : 'none';\n",
              "\n",
              "        async function convertToInteractive(key) {\n",
              "          const element = document.querySelector('#df-1546638a-95c3-4bc9-86ce-0aeccdeaf708');\n",
              "          const dataTable =\n",
              "            await google.colab.kernel.invokeFunction('convertToInteractive',\n",
              "                                                     [key], {});\n",
              "          if (!dataTable) return;\n",
              "\n",
              "          const docLinkHtml = 'Like what you see? Visit the ' +\n",
              "            '<a target=\"_blank\" href=https://colab.research.google.com/notebooks/data_table.ipynb>data table notebook</a>'\n",
              "            + ' to learn more about interactive tables.';\n",
              "          element.innerHTML = '';\n",
              "          dataTable['output_type'] = 'display_data';\n",
              "          await google.colab.output.renderOutput(dataTable, element);\n",
              "          const docLink = document.createElement('div');\n",
              "          docLink.innerHTML = docLinkHtml;\n",
              "          element.appendChild(docLink);\n",
              "        }\n",
              "      </script>\n",
              "    </div>\n",
              "  </div>\n",
              "  "
            ]
          },
          "metadata": {},
          "execution_count": 132
        }
      ]
    },
    {
      "cell_type": "code",
      "source": [
        "y_train.head()"
      ],
      "metadata": {
        "colab": {
          "base_uri": "https://localhost:8080/"
        },
        "id": "YGwdFEBjKyrX",
        "outputId": "80ffb684-26a9-4d24-a0d0-bab7d60ffeb3"
      },
      "execution_count": 133,
      "outputs": [
        {
          "output_type": "execute_result",
          "data": {
            "text/plain": [
              "134    20\n",
              "66     43\n",
              "26     45\n",
              "113    19\n",
              "168    36\n",
              "Name: Age, dtype: int64"
            ]
          },
          "metadata": {},
          "execution_count": 133
        }
      ]
    },
    {
      "cell_type": "code",
      "source": [
        "y_test.head()"
      ],
      "metadata": {
        "colab": {
          "base_uri": "https://localhost:8080/"
        },
        "id": "cX2eOMY4K9ws",
        "outputId": "7c43d071-e7d6-446c-fa4a-f90207f7654b"
      },
      "execution_count": 134,
      "outputs": [
        {
          "output_type": "execute_result",
          "data": {
            "text/plain": [
              "18     52\n",
              "170    40\n",
              "107    54\n",
              "98     48\n",
              "177    27\n",
              "Name: Age, dtype: int64"
            ]
          },
          "metadata": {},
          "execution_count": 134
        }
      ]
    },
    {
      "cell_type": "code",
      "source": [
        "x_train.shape,x_test.shape"
      ],
      "metadata": {
        "colab": {
          "base_uri": "https://localhost:8080/"
        },
        "id": "ZJyCFWIQLAkZ",
        "outputId": "887f8669-af29-4ede-a5ce-b6d98abc7c77"
      },
      "execution_count": 135,
      "outputs": [
        {
          "output_type": "execute_result",
          "data": {
            "text/plain": [
              "((160, 5), (40, 5))"
            ]
          },
          "metadata": {},
          "execution_count": 135
        }
      ]
    },
    {
      "cell_type": "code",
      "source": [
        "y_train.shape,y_test.shape"
      ],
      "metadata": {
        "colab": {
          "base_uri": "https://localhost:8080/"
        },
        "id": "vBcGQP66LEIX",
        "outputId": "3106bdb7-d283-4b1a-dab3-2bd7d2485dde"
      },
      "execution_count": 136,
      "outputs": [
        {
          "output_type": "execute_result",
          "data": {
            "text/plain": [
              "((160,), (40,))"
            ]
          },
          "metadata": {},
          "execution_count": 136
        }
      ]
    },
    {
      "cell_type": "markdown",
      "source": [
        "# BUILD THE MODEL"
      ],
      "metadata": {
        "id": "g6v4tuNxLMZ1"
      }
    },
    {
      "cell_type": "code",
      "source": [
        "from sklearn.tree import DecisionTreeClassifier"
      ],
      "metadata": {
        "id": "4YXrXBm1LPhU"
      },
      "execution_count": 137,
      "outputs": []
    },
    {
      "cell_type": "code",
      "source": [
        "model = DecisionTreeClassifier()"
      ],
      "metadata": {
        "id": "HumfiSXiLSdU"
      },
      "execution_count": 138,
      "outputs": []
    },
    {
      "cell_type": "code",
      "source": [
        "model.fit(x_train,y_train)"
      ],
      "metadata": {
        "colab": {
          "base_uri": "https://localhost:8080/"
        },
        "id": "hg5TAfiWLU3J",
        "outputId": "c32ee5ed-f02f-441b-a1e6-0f5809281f5e"
      },
      "execution_count": 139,
      "outputs": [
        {
          "output_type": "execute_result",
          "data": {
            "text/plain": [
              "DecisionTreeClassifier()"
            ]
          },
          "metadata": {},
          "execution_count": 139
        }
      ]
    },
    {
      "cell_type": "markdown",
      "source": [
        "# TRAIN THE MODEL"
      ],
      "metadata": {
        "id": "_jNcdbgDLk7k"
      }
    },
    {
      "cell_type": "code",
      "source": [
        "from sklearn.metrics import accuracy_score,precision_score,confusion_matrix"
      ],
      "metadata": {
        "id": "O8WHeGgBLppX"
      },
      "execution_count": 140,
      "outputs": []
    },
    {
      "cell_type": "code",
      "source": [
        "pred = model.predict(x_train)\n",
        "pred"
      ],
      "metadata": {
        "colab": {
          "base_uri": "https://localhost:8080/"
        },
        "id": "KKxqVHU4LtSH",
        "outputId": "b4d7259a-2c15-4420-bdae-ba5b53b5d130"
      },
      "execution_count": 141,
      "outputs": [
        {
          "output_type": "execute_result",
          "data": {
            "text/plain": [
              "array([20, 43, 45, 19, 36, 54, 64, 26, 51, 32, 47, 23, 41, 27, 34, 54, 60,\n",
              "       56, 65, 51, 39, 47, 32, 35, 38, 48, 50, 31, 33, 55, 35, 68, 32, 49,\n",
              "       25, 50, 66, 37, 35, 32, 28, 50, 19, 35, 68, 67, 20, 53, 44, 32, 31,\n",
              "       67, 47, 60, 45, 59, 30, 43, 40, 38, 34, 32, 49, 19, 32, 65, 24, 63,\n",
              "       33, 24, 32, 31, 29, 48, 24, 29, 31, 54, 29, 35, 22, 23, 49, 31, 23,\n",
              "       45, 23, 63, 50, 32, 35, 19, 21, 38, 27, 28, 37, 18, 30, 35, 50, 67,\n",
              "       21, 69, 18, 21, 27, 19, 48, 21, 25, 36, 20, 36, 31, 59, 30, 59, 49,\n",
              "       40, 18, 39, 21, 42, 40, 58, 53, 28, 32, 32, 23, 20, 67, 49, 19, 34,\n",
              "       38, 60, 40, 29, 36, 38, 41, 52, 34, 20, 27, 57, 34, 70, 22, 42, 25,\n",
              "       30, 26, 68, 33, 49, 27, 36])"
            ]
          },
          "metadata": {},
          "execution_count": 141
        }
      ]
    },
    {
      "cell_type": "code",
      "source": [
        "print(\"Accuracy score :\",accuracy_score(y_train,pred))\n",
        "print(\"Precision score :\",precision_score(y_train,pred,average=\"macro\"))"
      ],
      "metadata": {
        "colab": {
          "base_uri": "https://localhost:8080/"
        },
        "id": "W0G2r7mDLv9r",
        "outputId": "a03b462c-69af-4274-8823-c4bb2135c474"
      },
      "execution_count": 143,
      "outputs": [
        {
          "output_type": "stream",
          "name": "stdout",
          "text": [
            "Accuracy score : 1.0\n",
            "Precision score : 1.0\n"
          ]
        }
      ]
    },
    {
      "cell_type": "code",
      "source": [
        "print(confusion_matrix(y_train,pred))"
      ],
      "metadata": {
        "colab": {
          "base_uri": "https://localhost:8080/"
        },
        "id": "vq5aaPqeL06c",
        "outputId": "8582cd2d-b649-48d4-9885-26fba55376b8"
      },
      "execution_count": 144,
      "outputs": [
        {
          "output_type": "stream",
          "name": "stdout",
          "text": [
            "[[3 0 0 ... 0 0 0]\n",
            " [0 6 0 ... 0 0 0]\n",
            " [0 0 5 ... 0 0 0]\n",
            " ...\n",
            " [0 0 0 ... 3 0 0]\n",
            " [0 0 0 ... 0 1 0]\n",
            " [0 0 0 ... 0 0 1]]\n"
          ]
        }
      ]
    },
    {
      "cell_type": "markdown",
      "source": [
        "# TEST THE MODEL"
      ],
      "metadata": {
        "id": "e5fzZt5zMEa2"
      }
    },
    {
      "cell_type": "code",
      "source": [
        "pred = model.predict(x_test)\n",
        "pred"
      ],
      "metadata": {
        "colab": {
          "base_uri": "https://localhost:8080/"
        },
        "id": "LMvd8CBhMMFX",
        "outputId": "39565d85-b781-4ff9-d58e-4763295a0dc4"
      },
      "execution_count": 145,
      "outputs": [
        {
          "output_type": "execute_result",
          "data": {
            "text/plain": [
              "array([35, 58, 66, 20, 32, 59, 20, 25, 35, 34, 18, 32, 45, 41, 24, 24, 24,\n",
              "       20, 21, 40, 38, 40, 31, 32, 18, 32, 27, 33, 50, 40, 45, 69, 25, 19,\n",
              "       57, 32, 39, 45, 49, 19])"
            ]
          },
          "metadata": {},
          "execution_count": 145
        }
      ]
    },
    {
      "cell_type": "code",
      "source": [
        "print(\"Accuracy score :\",accuracy_score(y_test,pred))\n",
        "print(\"Precision score :\",precision_score(y_test,pred,average=\"macro\"))"
      ],
      "metadata": {
        "colab": {
          "base_uri": "https://localhost:8080/"
        },
        "id": "7Yy9CnaaMPH4",
        "outputId": "e8ce3388-bd47-4331-e517-34a6471d6f61"
      },
      "execution_count": 146,
      "outputs": [
        {
          "output_type": "stream",
          "name": "stdout",
          "text": [
            "Accuracy score : 0.025\n",
            "Precision score : 0.01282051282051282\n"
          ]
        }
      ]
    },
    {
      "cell_type": "code",
      "source": [
        "print(confusion_matrix(y_test,pred))"
      ],
      "metadata": {
        "colab": {
          "base_uri": "https://localhost:8080/"
        },
        "id": "rw7T6EvrMX7F",
        "outputId": "0a6d08d1-2e81-4062-c3fb-1cca5ff1f71c"
      },
      "execution_count": 147,
      "outputs": [
        {
          "output_type": "stream",
          "name": "stdout",
          "text": [
            "[[0 0 0 ... 0 0 0]\n",
            " [1 1 0 ... 0 0 0]\n",
            " [0 0 0 ... 0 0 0]\n",
            " ...\n",
            " [0 1 0 ... 0 0 0]\n",
            " [0 0 0 ... 0 0 0]\n",
            " [1 0 0 ... 0 0 0]]\n"
          ]
        }
      ]
    },
    {
      "cell_type": "markdown",
      "source": [
        "# MEASURE THE PERFORMANCE USING EVALUTION METRICS"
      ],
      "metadata": {
        "id": "9pVreQ0hMg1s"
      }
    },
    {
      "cell_type": "code",
      "source": [
        "from sklearn.metrics import r2_score\n",
        "from sklearn.metrics import mean_absolute_error\n",
        "from sklearn.metrics import mean_squared_error\n",
        "x_train=[5,-1,2,10]\n",
        "y_test=[3.5,-0.9,2,9.9]\n",
        "print('RSquared=',r2_score(x_train,y_test))\n",
        "print('MAE=',mean_absolute_error(x_train,y_test))\n",
        "print('MSE=',mean_squared_error(x_train,y_test))"
      ],
      "metadata": {
        "colab": {
          "base_uri": "https://localhost:8080/"
        },
        "id": "00a0ltEANAPq",
        "outputId": "ddd1f4cb-82be-4ae3-c9ac-1fa85239e3f4"
      },
      "execution_count": 151,
      "outputs": [
        {
          "output_type": "stream",
          "name": "stdout",
          "text": [
            "RSquared= 0.9656060606060606\n",
            "MAE= 0.42499999999999993\n",
            "MSE= 0.5674999999999999\n"
          ]
        }
      ]
    }
  ]
}